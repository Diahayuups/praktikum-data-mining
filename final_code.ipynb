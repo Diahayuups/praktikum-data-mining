{
  "nbformat": 4,
  "nbformat_minor": 0,
  "metadata": {
    "colab": {
      "provenance": [],
      "toc_visible": true
    },
    "kernelspec": {
      "name": "python3",
      "display_name": "Python 3"
    },
    "language_info": {
      "name": "python"
    }
  },
  "cells": [
    {
      "cell_type": "markdown",
      "source": [
        "# Project Akhir Data Mining\n",
        "\n",
        "\n",
        "\n",
        "*   Diah Ayu Puspasari (0110223052)\n",
        "*   Eka Kartini (0110223054)\n",
        "*   Nurhayati (0110223081)\n",
        "*   Pathi (0110223068)\n",
        "\n",
        "\n",
        "\n",
        "Data Engineering 02\n",
        "\n",
        "\n",
        "\n"
      ],
      "metadata": {
        "id": "rqyaVMAtjQzS"
      }
    },
    {
      "cell_type": "markdown",
      "source": [
        "# Start"
      ],
      "metadata": {
        "id": "wpBpDdDdjUaQ"
      }
    },
    {
      "cell_type": "code",
      "execution_count": null,
      "metadata": {
        "id": "hKy6eR1eEb4F"
      },
      "outputs": [],
      "source": [
        "# mengimport librari yang dibutuhkan\n",
        "import pandas as pd\n",
        "import numpy as np\n",
        "import matplotlib.pyplot as plt\n",
        "import statsmodels.api as sm\n",
        "import seaborn as sns"
      ]
    },
    {
      "cell_type": "code",
      "source": [
        "# menghubungkan dengan gdrive\n",
        "from google.colab import drive\n",
        "drive.mount('/content/drive')"
      ],
      "metadata": {
        "colab": {
          "base_uri": "https://localhost:8080/"
        },
        "id": "fuJXjjH7jcqe",
        "outputId": "d89fb9df-0e18-4d55-a535-59979ff1bf70"
      },
      "execution_count": null,
      "outputs": [
        {
          "output_type": "stream",
          "name": "stdout",
          "text": [
            "Mounted at /content/drive\n"
          ]
        }
      ]
    },
    {
      "cell_type": "markdown",
      "source": [
        "# Business Understanding"
      ],
      "metadata": {
        "id": "Y7nzKCjDoVOl"
      }
    },
    {
      "cell_type": "code",
      "source": [
        "# membaca file excel dari gdrive\n",
        "mydata = pd.read_excel('/content/drive/MyDrive/praktikum_dm/.Project_Akhir/dataset_fix.xlsx')\n",
        "mydata.head()"
      ],
      "metadata": {
        "colab": {
          "base_uri": "https://localhost:8080/",
          "height": 313
        },
        "id": "E3OmzOX3oWCG",
        "outputId": "79d63e06-9f2c-4418-d5d3-8939317ed541"
      },
      "execution_count": null,
      "outputs": [
        {
          "output_type": "execute_result",
          "data": {
            "text/plain": [
              "   transaction_id transaction_date transaction_time  transaction_qty  \\\n",
              "0               1       2023-01-01         07:06:11              NaN   \n",
              "1               2       2023-01-01         07:08:56              2.0   \n",
              "2               3       2023-01-01         07:14:04              2.0   \n",
              "3               4       2023-01-01         07:20:24              1.0   \n",
              "4               5       2023-01-01         07:22:41              2.0   \n",
              "\n",
              "   store_id   store_location  product_id  unit_price    product_category  \\\n",
              "0         5  Lower Manhattan          32         3.0              Coffee   \n",
              "1         5  Lower Manhattan          57         3.1                 Tea   \n",
              "2         5  Lower Manhattan          59         4.5  Drinking Chocolate   \n",
              "3         5  Lower Manhattan          22         2.0              Coffee   \n",
              "4         5  Lower Manhattan          57         3.1                 Tea   \n",
              "\n",
              "            product_type               product_detail  \n",
              "0  Gourmet brewed coffee                  Ethiopia Rg  \n",
              "1        Brewed Chai tea     Spicy Eye Opener Chai Lg  \n",
              "2          Hot chocolate            Dark chocolate Lg  \n",
              "3            Drip coffee  Our Old Time Diner Blend Sm  \n",
              "4        Brewed Chai tea     Spicy Eye Opener Chai Lg  "
            ],
            "text/html": [
              "\n",
              "  <div id=\"df-d7bfa97d-468f-4186-a720-bea970ac76c9\" class=\"colab-df-container\">\n",
              "    <div>\n",
              "<style scoped>\n",
              "    .dataframe tbody tr th:only-of-type {\n",
              "        vertical-align: middle;\n",
              "    }\n",
              "\n",
              "    .dataframe tbody tr th {\n",
              "        vertical-align: top;\n",
              "    }\n",
              "\n",
              "    .dataframe thead th {\n",
              "        text-align: right;\n",
              "    }\n",
              "</style>\n",
              "<table border=\"1\" class=\"dataframe\">\n",
              "  <thead>\n",
              "    <tr style=\"text-align: right;\">\n",
              "      <th></th>\n",
              "      <th>transaction_id</th>\n",
              "      <th>transaction_date</th>\n",
              "      <th>transaction_time</th>\n",
              "      <th>transaction_qty</th>\n",
              "      <th>store_id</th>\n",
              "      <th>store_location</th>\n",
              "      <th>product_id</th>\n",
              "      <th>unit_price</th>\n",
              "      <th>product_category</th>\n",
              "      <th>product_type</th>\n",
              "      <th>product_detail</th>\n",
              "    </tr>\n",
              "  </thead>\n",
              "  <tbody>\n",
              "    <tr>\n",
              "      <th>0</th>\n",
              "      <td>1</td>\n",
              "      <td>2023-01-01</td>\n",
              "      <td>07:06:11</td>\n",
              "      <td>NaN</td>\n",
              "      <td>5</td>\n",
              "      <td>Lower Manhattan</td>\n",
              "      <td>32</td>\n",
              "      <td>3.0</td>\n",
              "      <td>Coffee</td>\n",
              "      <td>Gourmet brewed coffee</td>\n",
              "      <td>Ethiopia Rg</td>\n",
              "    </tr>\n",
              "    <tr>\n",
              "      <th>1</th>\n",
              "      <td>2</td>\n",
              "      <td>2023-01-01</td>\n",
              "      <td>07:08:56</td>\n",
              "      <td>2.0</td>\n",
              "      <td>5</td>\n",
              "      <td>Lower Manhattan</td>\n",
              "      <td>57</td>\n",
              "      <td>3.1</td>\n",
              "      <td>Tea</td>\n",
              "      <td>Brewed Chai tea</td>\n",
              "      <td>Spicy Eye Opener Chai Lg</td>\n",
              "    </tr>\n",
              "    <tr>\n",
              "      <th>2</th>\n",
              "      <td>3</td>\n",
              "      <td>2023-01-01</td>\n",
              "      <td>07:14:04</td>\n",
              "      <td>2.0</td>\n",
              "      <td>5</td>\n",
              "      <td>Lower Manhattan</td>\n",
              "      <td>59</td>\n",
              "      <td>4.5</td>\n",
              "      <td>Drinking Chocolate</td>\n",
              "      <td>Hot chocolate</td>\n",
              "      <td>Dark chocolate Lg</td>\n",
              "    </tr>\n",
              "    <tr>\n",
              "      <th>3</th>\n",
              "      <td>4</td>\n",
              "      <td>2023-01-01</td>\n",
              "      <td>07:20:24</td>\n",
              "      <td>1.0</td>\n",
              "      <td>5</td>\n",
              "      <td>Lower Manhattan</td>\n",
              "      <td>22</td>\n",
              "      <td>2.0</td>\n",
              "      <td>Coffee</td>\n",
              "      <td>Drip coffee</td>\n",
              "      <td>Our Old Time Diner Blend Sm</td>\n",
              "    </tr>\n",
              "    <tr>\n",
              "      <th>4</th>\n",
              "      <td>5</td>\n",
              "      <td>2023-01-01</td>\n",
              "      <td>07:22:41</td>\n",
              "      <td>2.0</td>\n",
              "      <td>5</td>\n",
              "      <td>Lower Manhattan</td>\n",
              "      <td>57</td>\n",
              "      <td>3.1</td>\n",
              "      <td>Tea</td>\n",
              "      <td>Brewed Chai tea</td>\n",
              "      <td>Spicy Eye Opener Chai Lg</td>\n",
              "    </tr>\n",
              "  </tbody>\n",
              "</table>\n",
              "</div>\n",
              "    <div class=\"colab-df-buttons\">\n",
              "\n",
              "  <div class=\"colab-df-container\">\n",
              "    <button class=\"colab-df-convert\" onclick=\"convertToInteractive('df-d7bfa97d-468f-4186-a720-bea970ac76c9')\"\n",
              "            title=\"Convert this dataframe to an interactive table.\"\n",
              "            style=\"display:none;\">\n",
              "\n",
              "  <svg xmlns=\"http://www.w3.org/2000/svg\" height=\"24px\" viewBox=\"0 -960 960 960\">\n",
              "    <path d=\"M120-120v-720h720v720H120Zm60-500h600v-160H180v160Zm220 220h160v-160H400v160Zm0 220h160v-160H400v160ZM180-400h160v-160H180v160Zm440 0h160v-160H620v160ZM180-180h160v-160H180v160Zm440 0h160v-160H620v160Z\"/>\n",
              "  </svg>\n",
              "    </button>\n",
              "\n",
              "  <style>\n",
              "    .colab-df-container {\n",
              "      display:flex;\n",
              "      gap: 12px;\n",
              "    }\n",
              "\n",
              "    .colab-df-convert {\n",
              "      background-color: #E8F0FE;\n",
              "      border: none;\n",
              "      border-radius: 50%;\n",
              "      cursor: pointer;\n",
              "      display: none;\n",
              "      fill: #1967D2;\n",
              "      height: 32px;\n",
              "      padding: 0 0 0 0;\n",
              "      width: 32px;\n",
              "    }\n",
              "\n",
              "    .colab-df-convert:hover {\n",
              "      background-color: #E2EBFA;\n",
              "      box-shadow: 0px 1px 2px rgba(60, 64, 67, 0.3), 0px 1px 3px 1px rgba(60, 64, 67, 0.15);\n",
              "      fill: #174EA6;\n",
              "    }\n",
              "\n",
              "    .colab-df-buttons div {\n",
              "      margin-bottom: 4px;\n",
              "    }\n",
              "\n",
              "    [theme=dark] .colab-df-convert {\n",
              "      background-color: #3B4455;\n",
              "      fill: #D2E3FC;\n",
              "    }\n",
              "\n",
              "    [theme=dark] .colab-df-convert:hover {\n",
              "      background-color: #434B5C;\n",
              "      box-shadow: 0px 1px 3px 1px rgba(0, 0, 0, 0.15);\n",
              "      filter: drop-shadow(0px 1px 2px rgba(0, 0, 0, 0.3));\n",
              "      fill: #FFFFFF;\n",
              "    }\n",
              "  </style>\n",
              "\n",
              "    <script>\n",
              "      const buttonEl =\n",
              "        document.querySelector('#df-d7bfa97d-468f-4186-a720-bea970ac76c9 button.colab-df-convert');\n",
              "      buttonEl.style.display =\n",
              "        google.colab.kernel.accessAllowed ? 'block' : 'none';\n",
              "\n",
              "      async function convertToInteractive(key) {\n",
              "        const element = document.querySelector('#df-d7bfa97d-468f-4186-a720-bea970ac76c9');\n",
              "        const dataTable =\n",
              "          await google.colab.kernel.invokeFunction('convertToInteractive',\n",
              "                                                    [key], {});\n",
              "        if (!dataTable) return;\n",
              "\n",
              "        const docLinkHtml = 'Like what you see? Visit the ' +\n",
              "          '<a target=\"_blank\" href=https://colab.research.google.com/notebooks/data_table.ipynb>data table notebook</a>'\n",
              "          + ' to learn more about interactive tables.';\n",
              "        element.innerHTML = '';\n",
              "        dataTable['output_type'] = 'display_data';\n",
              "        await google.colab.output.renderOutput(dataTable, element);\n",
              "        const docLink = document.createElement('div');\n",
              "        docLink.innerHTML = docLinkHtml;\n",
              "        element.appendChild(docLink);\n",
              "      }\n",
              "    </script>\n",
              "  </div>\n",
              "\n",
              "\n",
              "<div id=\"df-6a3ba09c-b120-4568-926e-843051e7a021\">\n",
              "  <button class=\"colab-df-quickchart\" onclick=\"quickchart('df-6a3ba09c-b120-4568-926e-843051e7a021')\"\n",
              "            title=\"Suggest charts\"\n",
              "            style=\"display:none;\">\n",
              "\n",
              "<svg xmlns=\"http://www.w3.org/2000/svg\" height=\"24px\"viewBox=\"0 0 24 24\"\n",
              "     width=\"24px\">\n",
              "    <g>\n",
              "        <path d=\"M19 3H5c-1.1 0-2 .9-2 2v14c0 1.1.9 2 2 2h14c1.1 0 2-.9 2-2V5c0-1.1-.9-2-2-2zM9 17H7v-7h2v7zm4 0h-2V7h2v10zm4 0h-2v-4h2v4z\"/>\n",
              "    </g>\n",
              "</svg>\n",
              "  </button>\n",
              "\n",
              "<style>\n",
              "  .colab-df-quickchart {\n",
              "      --bg-color: #E8F0FE;\n",
              "      --fill-color: #1967D2;\n",
              "      --hover-bg-color: #E2EBFA;\n",
              "      --hover-fill-color: #174EA6;\n",
              "      --disabled-fill-color: #AAA;\n",
              "      --disabled-bg-color: #DDD;\n",
              "  }\n",
              "\n",
              "  [theme=dark] .colab-df-quickchart {\n",
              "      --bg-color: #3B4455;\n",
              "      --fill-color: #D2E3FC;\n",
              "      --hover-bg-color: #434B5C;\n",
              "      --hover-fill-color: #FFFFFF;\n",
              "      --disabled-bg-color: #3B4455;\n",
              "      --disabled-fill-color: #666;\n",
              "  }\n",
              "\n",
              "  .colab-df-quickchart {\n",
              "    background-color: var(--bg-color);\n",
              "    border: none;\n",
              "    border-radius: 50%;\n",
              "    cursor: pointer;\n",
              "    display: none;\n",
              "    fill: var(--fill-color);\n",
              "    height: 32px;\n",
              "    padding: 0;\n",
              "    width: 32px;\n",
              "  }\n",
              "\n",
              "  .colab-df-quickchart:hover {\n",
              "    background-color: var(--hover-bg-color);\n",
              "    box-shadow: 0 1px 2px rgba(60, 64, 67, 0.3), 0 1px 3px 1px rgba(60, 64, 67, 0.15);\n",
              "    fill: var(--button-hover-fill-color);\n",
              "  }\n",
              "\n",
              "  .colab-df-quickchart-complete:disabled,\n",
              "  .colab-df-quickchart-complete:disabled:hover {\n",
              "    background-color: var(--disabled-bg-color);\n",
              "    fill: var(--disabled-fill-color);\n",
              "    box-shadow: none;\n",
              "  }\n",
              "\n",
              "  .colab-df-spinner {\n",
              "    border: 2px solid var(--fill-color);\n",
              "    border-color: transparent;\n",
              "    border-bottom-color: var(--fill-color);\n",
              "    animation:\n",
              "      spin 1s steps(1) infinite;\n",
              "  }\n",
              "\n",
              "  @keyframes spin {\n",
              "    0% {\n",
              "      border-color: transparent;\n",
              "      border-bottom-color: var(--fill-color);\n",
              "      border-left-color: var(--fill-color);\n",
              "    }\n",
              "    20% {\n",
              "      border-color: transparent;\n",
              "      border-left-color: var(--fill-color);\n",
              "      border-top-color: var(--fill-color);\n",
              "    }\n",
              "    30% {\n",
              "      border-color: transparent;\n",
              "      border-left-color: var(--fill-color);\n",
              "      border-top-color: var(--fill-color);\n",
              "      border-right-color: var(--fill-color);\n",
              "    }\n",
              "    40% {\n",
              "      border-color: transparent;\n",
              "      border-right-color: var(--fill-color);\n",
              "      border-top-color: var(--fill-color);\n",
              "    }\n",
              "    60% {\n",
              "      border-color: transparent;\n",
              "      border-right-color: var(--fill-color);\n",
              "    }\n",
              "    80% {\n",
              "      border-color: transparent;\n",
              "      border-right-color: var(--fill-color);\n",
              "      border-bottom-color: var(--fill-color);\n",
              "    }\n",
              "    90% {\n",
              "      border-color: transparent;\n",
              "      border-bottom-color: var(--fill-color);\n",
              "    }\n",
              "  }\n",
              "</style>\n",
              "\n",
              "  <script>\n",
              "    async function quickchart(key) {\n",
              "      const quickchartButtonEl =\n",
              "        document.querySelector('#' + key + ' button');\n",
              "      quickchartButtonEl.disabled = true;  // To prevent multiple clicks.\n",
              "      quickchartButtonEl.classList.add('colab-df-spinner');\n",
              "      try {\n",
              "        const charts = await google.colab.kernel.invokeFunction(\n",
              "            'suggestCharts', [key], {});\n",
              "      } catch (error) {\n",
              "        console.error('Error during call to suggestCharts:', error);\n",
              "      }\n",
              "      quickchartButtonEl.classList.remove('colab-df-spinner');\n",
              "      quickchartButtonEl.classList.add('colab-df-quickchart-complete');\n",
              "    }\n",
              "    (() => {\n",
              "      let quickchartButtonEl =\n",
              "        document.querySelector('#df-6a3ba09c-b120-4568-926e-843051e7a021 button');\n",
              "      quickchartButtonEl.style.display =\n",
              "        google.colab.kernel.accessAllowed ? 'block' : 'none';\n",
              "    })();\n",
              "  </script>\n",
              "</div>\n",
              "\n",
              "    </div>\n",
              "  </div>\n"
            ],
            "application/vnd.google.colaboratory.intrinsic+json": {
              "type": "dataframe",
              "variable_name": "mydata"
            }
          },
          "metadata": {},
          "execution_count": 3
        }
      ]
    },
    {
      "cell_type": "markdown",
      "source": [
        "Business Understanding dalam konteks dataset ini bertujuan untuk memahami bagaimana data tersebut dapat digunakan untuk menjawab pertanyaan atau mendukung tujuan bisnis. Berdasarkan isi data yang ditampilkan, berikut adalah penjelasannya:\n",
        "\n",
        "- **transaction_id**: ID unik untuk setiap transaksi.\n",
        "- **transaction_date** dan **transaction_time**: Tanggal dan waktu transaksi dilakukan.\n",
        "- **transaction_qty**: Jumlah produk yang dibeli dalam transaksi.\n",
        "- **store_id** dan **store_location**: Identitas dan lokasi toko tempat transaksi terjadi.\n",
        "- **product_id**, **unit_price**, **product_category**, **product_type**, dan **product_detail**: Informasi detail tentang produk, termasuk kategori, tipe, dan harga satuan.\n"
      ],
      "metadata": {
        "id": "zf7prYmZuekX"
      }
    },
    {
      "cell_type": "markdown",
      "source": [
        "# Data Understanding"
      ],
      "metadata": {
        "id": "IqJcE8l0otK0"
      }
    },
    {
      "cell_type": "code",
      "source": [
        "# mengecek typedata\n",
        "mydata.info()"
      ],
      "metadata": {
        "colab": {
          "base_uri": "https://localhost:8080/"
        },
        "id": "w-svE1-QqALs",
        "outputId": "db535745-554b-4829-d2af-b3a88d55c910"
      },
      "execution_count": null,
      "outputs": [
        {
          "output_type": "stream",
          "name": "stdout",
          "text": [
            "<class 'pandas.core.frame.DataFrame'>\n",
            "RangeIndex: 153624 entries, 0 to 153623\n",
            "Data columns (total 11 columns):\n",
            " #   Column            Non-Null Count   Dtype  \n",
            "---  ------            --------------   -----  \n",
            " 0   transaction_id    153624 non-null  int64  \n",
            " 1   transaction_date  153624 non-null  object \n",
            " 2   transaction_time  153624 non-null  object \n",
            " 3   transaction_qty   151931 non-null  float64\n",
            " 4   store_id          153624 non-null  int64  \n",
            " 5   store_location    153624 non-null  object \n",
            " 6   product_id        153624 non-null  int64  \n",
            " 7   unit_price        153624 non-null  float64\n",
            " 8   product_category  153624 non-null  object \n",
            " 9   product_type      153624 non-null  object \n",
            " 10  product_detail    153624 non-null  object \n",
            "dtypes: float64(2), int64(3), object(6)\n",
            "memory usage: 12.9+ MB\n"
          ]
        }
      ]
    },
    {
      "cell_type": "markdown",
      "source": [
        "Berikut adalah penjelasan mengenai setiap kolom dalam dataset:\n",
        "\n",
        "1. **transaction_id**: Kolom ini digunakan untuk memastikan setiap transaksi bersifat individual dan tidak ada duplikasi.\n",
        "2. **transaction_date**: Kolom ini digunakan untuk menganalisis pola penjualan berdasarkan hari, bulan, atau musim.\n",
        "3. **transaction_time**: Kolom ini digunakan untuk menyimpan waktu spesifik transaksi dilakukan dan melihat pola pembelian berdasarkan waktu, seperti jam sibuk atau waktu dengan penjualan tertinggi.\n",
        "4. **transaction_qty**: Kolom ini digunakan untuk menunjukkan jumlah produk yang dibeli dalam satu transaksi dan membantu memahami volume penjualan serta pola pembelian.\n",
        "5. **store_id**: Kolom ini digunakan untuk analisis performa toko, seperti toko mana yang memiliki penjualan terbaik.\n",
        "6. **store_location**: Kolom ini digunakan untuk menyimpan lokasi toko tempat transaksi dilakukan. Membantu dalam memahami pengaruh lokasi terhadap penjualan, seperti area dengan performa terbaik.\n",
        "7. **product_id**: Kolom ini digunakan utnuk identifikasi unik untuk setiap produk yang dijual. Memastikan produk dapat dianalisis secara spesifik, seperti frekuensi penjualan berdasarkan ID produk.\n",
        "8. **unit_price**: Kolom ini digunakan untuk analisis pendapatan, margin keuntungan, atau strategi penentuan harga.\n",
        "9. **product_category**: Kolom ini menunjukkan kategori produk (misalnya, kopi, teh, cokelat). Membantu dalam analisis preferensi pelanggan terhadap kategori tertentu.\n",
        "10. **product_type**: Kolom ini memberikan deskripsi tipe produk yang lebih detail di dalam kategori (misalnya, kopi gourmet, teh brewed). Berguna untuk analisis produk yang lebih spesifik.\n",
        "11. **product_detail**: Kolom ini menyediakan informasi rinci tentang produk (misalnya, nama varian atau spesifikasi). Membantu dalam analisis tren berdasarkan varian produk tertentu."
      ],
      "metadata": {
        "id": "0rq3k8FK4-pi"
      }
    },
    {
      "cell_type": "code",
      "source": [
        "# mencari hasil dari statistika deskriptif kolom float\n",
        "mydata.describe()"
      ],
      "metadata": {
        "colab": {
          "base_uri": "https://localhost:8080/",
          "height": 300
        },
        "id": "Pri4G_7uqFqm",
        "outputId": "15500e64-7f82-4612-b76c-e16a9a7fa44e"
      },
      "execution_count": null,
      "outputs": [
        {
          "output_type": "execute_result",
          "data": {
            "text/plain": [
              "       transaction_id  transaction_qty       store_id     product_id  \\\n",
              "count   153624.000000    151931.000000  153624.000000  153624.000000   \n",
              "mean     74739.220682         1.438192       5.341398      47.924530   \n",
              "std      43152.474111         0.542150       2.074204      17.935054   \n",
              "min          1.000000         1.000000       3.000000       1.000000   \n",
              "25%      37351.750000         1.000000       3.000000      33.000000   \n",
              "50%      74721.500000         1.000000       5.000000      47.000000   \n",
              "75%     112091.250000         2.000000       8.000000      60.000000   \n",
              "max     149456.000000         8.000000       8.000000      87.000000   \n",
              "\n",
              "          unit_price  \n",
              "count  153624.000000  \n",
              "mean      130.546466  \n",
              "std      1120.990539  \n",
              "min       -10.000000  \n",
              "25%         2.500000  \n",
              "50%         3.000000  \n",
              "75%         3.750000  \n",
              "max      9999.000000  "
            ],
            "text/html": [
              "\n",
              "  <div id=\"df-4517982f-9fdb-49da-8322-a3c8a645cacc\" class=\"colab-df-container\">\n",
              "    <div>\n",
              "<style scoped>\n",
              "    .dataframe tbody tr th:only-of-type {\n",
              "        vertical-align: middle;\n",
              "    }\n",
              "\n",
              "    .dataframe tbody tr th {\n",
              "        vertical-align: top;\n",
              "    }\n",
              "\n",
              "    .dataframe thead th {\n",
              "        text-align: right;\n",
              "    }\n",
              "</style>\n",
              "<table border=\"1\" class=\"dataframe\">\n",
              "  <thead>\n",
              "    <tr style=\"text-align: right;\">\n",
              "      <th></th>\n",
              "      <th>transaction_id</th>\n",
              "      <th>transaction_qty</th>\n",
              "      <th>store_id</th>\n",
              "      <th>product_id</th>\n",
              "      <th>unit_price</th>\n",
              "    </tr>\n",
              "  </thead>\n",
              "  <tbody>\n",
              "    <tr>\n",
              "      <th>count</th>\n",
              "      <td>153624.000000</td>\n",
              "      <td>151931.000000</td>\n",
              "      <td>153624.000000</td>\n",
              "      <td>153624.000000</td>\n",
              "      <td>153624.000000</td>\n",
              "    </tr>\n",
              "    <tr>\n",
              "      <th>mean</th>\n",
              "      <td>74739.220682</td>\n",
              "      <td>1.438192</td>\n",
              "      <td>5.341398</td>\n",
              "      <td>47.924530</td>\n",
              "      <td>130.546466</td>\n",
              "    </tr>\n",
              "    <tr>\n",
              "      <th>std</th>\n",
              "      <td>43152.474111</td>\n",
              "      <td>0.542150</td>\n",
              "      <td>2.074204</td>\n",
              "      <td>17.935054</td>\n",
              "      <td>1120.990539</td>\n",
              "    </tr>\n",
              "    <tr>\n",
              "      <th>min</th>\n",
              "      <td>1.000000</td>\n",
              "      <td>1.000000</td>\n",
              "      <td>3.000000</td>\n",
              "      <td>1.000000</td>\n",
              "      <td>-10.000000</td>\n",
              "    </tr>\n",
              "    <tr>\n",
              "      <th>25%</th>\n",
              "      <td>37351.750000</td>\n",
              "      <td>1.000000</td>\n",
              "      <td>3.000000</td>\n",
              "      <td>33.000000</td>\n",
              "      <td>2.500000</td>\n",
              "    </tr>\n",
              "    <tr>\n",
              "      <th>50%</th>\n",
              "      <td>74721.500000</td>\n",
              "      <td>1.000000</td>\n",
              "      <td>5.000000</td>\n",
              "      <td>47.000000</td>\n",
              "      <td>3.000000</td>\n",
              "    </tr>\n",
              "    <tr>\n",
              "      <th>75%</th>\n",
              "      <td>112091.250000</td>\n",
              "      <td>2.000000</td>\n",
              "      <td>8.000000</td>\n",
              "      <td>60.000000</td>\n",
              "      <td>3.750000</td>\n",
              "    </tr>\n",
              "    <tr>\n",
              "      <th>max</th>\n",
              "      <td>149456.000000</td>\n",
              "      <td>8.000000</td>\n",
              "      <td>8.000000</td>\n",
              "      <td>87.000000</td>\n",
              "      <td>9999.000000</td>\n",
              "    </tr>\n",
              "  </tbody>\n",
              "</table>\n",
              "</div>\n",
              "    <div class=\"colab-df-buttons\">\n",
              "\n",
              "  <div class=\"colab-df-container\">\n",
              "    <button class=\"colab-df-convert\" onclick=\"convertToInteractive('df-4517982f-9fdb-49da-8322-a3c8a645cacc')\"\n",
              "            title=\"Convert this dataframe to an interactive table.\"\n",
              "            style=\"display:none;\">\n",
              "\n",
              "  <svg xmlns=\"http://www.w3.org/2000/svg\" height=\"24px\" viewBox=\"0 -960 960 960\">\n",
              "    <path d=\"M120-120v-720h720v720H120Zm60-500h600v-160H180v160Zm220 220h160v-160H400v160Zm0 220h160v-160H400v160ZM180-400h160v-160H180v160Zm440 0h160v-160H620v160ZM180-180h160v-160H180v160Zm440 0h160v-160H620v160Z\"/>\n",
              "  </svg>\n",
              "    </button>\n",
              "\n",
              "  <style>\n",
              "    .colab-df-container {\n",
              "      display:flex;\n",
              "      gap: 12px;\n",
              "    }\n",
              "\n",
              "    .colab-df-convert {\n",
              "      background-color: #E8F0FE;\n",
              "      border: none;\n",
              "      border-radius: 50%;\n",
              "      cursor: pointer;\n",
              "      display: none;\n",
              "      fill: #1967D2;\n",
              "      height: 32px;\n",
              "      padding: 0 0 0 0;\n",
              "      width: 32px;\n",
              "    }\n",
              "\n",
              "    .colab-df-convert:hover {\n",
              "      background-color: #E2EBFA;\n",
              "      box-shadow: 0px 1px 2px rgba(60, 64, 67, 0.3), 0px 1px 3px 1px rgba(60, 64, 67, 0.15);\n",
              "      fill: #174EA6;\n",
              "    }\n",
              "\n",
              "    .colab-df-buttons div {\n",
              "      margin-bottom: 4px;\n",
              "    }\n",
              "\n",
              "    [theme=dark] .colab-df-convert {\n",
              "      background-color: #3B4455;\n",
              "      fill: #D2E3FC;\n",
              "    }\n",
              "\n",
              "    [theme=dark] .colab-df-convert:hover {\n",
              "      background-color: #434B5C;\n",
              "      box-shadow: 0px 1px 3px 1px rgba(0, 0, 0, 0.15);\n",
              "      filter: drop-shadow(0px 1px 2px rgba(0, 0, 0, 0.3));\n",
              "      fill: #FFFFFF;\n",
              "    }\n",
              "  </style>\n",
              "\n",
              "    <script>\n",
              "      const buttonEl =\n",
              "        document.querySelector('#df-4517982f-9fdb-49da-8322-a3c8a645cacc button.colab-df-convert');\n",
              "      buttonEl.style.display =\n",
              "        google.colab.kernel.accessAllowed ? 'block' : 'none';\n",
              "\n",
              "      async function convertToInteractive(key) {\n",
              "        const element = document.querySelector('#df-4517982f-9fdb-49da-8322-a3c8a645cacc');\n",
              "        const dataTable =\n",
              "          await google.colab.kernel.invokeFunction('convertToInteractive',\n",
              "                                                    [key], {});\n",
              "        if (!dataTable) return;\n",
              "\n",
              "        const docLinkHtml = 'Like what you see? Visit the ' +\n",
              "          '<a target=\"_blank\" href=https://colab.research.google.com/notebooks/data_table.ipynb>data table notebook</a>'\n",
              "          + ' to learn more about interactive tables.';\n",
              "        element.innerHTML = '';\n",
              "        dataTable['output_type'] = 'display_data';\n",
              "        await google.colab.output.renderOutput(dataTable, element);\n",
              "        const docLink = document.createElement('div');\n",
              "        docLink.innerHTML = docLinkHtml;\n",
              "        element.appendChild(docLink);\n",
              "      }\n",
              "    </script>\n",
              "  </div>\n",
              "\n",
              "\n",
              "<div id=\"df-084b37ef-66a3-487a-a13f-f9bf98c21fb5\">\n",
              "  <button class=\"colab-df-quickchart\" onclick=\"quickchart('df-084b37ef-66a3-487a-a13f-f9bf98c21fb5')\"\n",
              "            title=\"Suggest charts\"\n",
              "            style=\"display:none;\">\n",
              "\n",
              "<svg xmlns=\"http://www.w3.org/2000/svg\" height=\"24px\"viewBox=\"0 0 24 24\"\n",
              "     width=\"24px\">\n",
              "    <g>\n",
              "        <path d=\"M19 3H5c-1.1 0-2 .9-2 2v14c0 1.1.9 2 2 2h14c1.1 0 2-.9 2-2V5c0-1.1-.9-2-2-2zM9 17H7v-7h2v7zm4 0h-2V7h2v10zm4 0h-2v-4h2v4z\"/>\n",
              "    </g>\n",
              "</svg>\n",
              "  </button>\n",
              "\n",
              "<style>\n",
              "  .colab-df-quickchart {\n",
              "      --bg-color: #E8F0FE;\n",
              "      --fill-color: #1967D2;\n",
              "      --hover-bg-color: #E2EBFA;\n",
              "      --hover-fill-color: #174EA6;\n",
              "      --disabled-fill-color: #AAA;\n",
              "      --disabled-bg-color: #DDD;\n",
              "  }\n",
              "\n",
              "  [theme=dark] .colab-df-quickchart {\n",
              "      --bg-color: #3B4455;\n",
              "      --fill-color: #D2E3FC;\n",
              "      --hover-bg-color: #434B5C;\n",
              "      --hover-fill-color: #FFFFFF;\n",
              "      --disabled-bg-color: #3B4455;\n",
              "      --disabled-fill-color: #666;\n",
              "  }\n",
              "\n",
              "  .colab-df-quickchart {\n",
              "    background-color: var(--bg-color);\n",
              "    border: none;\n",
              "    border-radius: 50%;\n",
              "    cursor: pointer;\n",
              "    display: none;\n",
              "    fill: var(--fill-color);\n",
              "    height: 32px;\n",
              "    padding: 0;\n",
              "    width: 32px;\n",
              "  }\n",
              "\n",
              "  .colab-df-quickchart:hover {\n",
              "    background-color: var(--hover-bg-color);\n",
              "    box-shadow: 0 1px 2px rgba(60, 64, 67, 0.3), 0 1px 3px 1px rgba(60, 64, 67, 0.15);\n",
              "    fill: var(--button-hover-fill-color);\n",
              "  }\n",
              "\n",
              "  .colab-df-quickchart-complete:disabled,\n",
              "  .colab-df-quickchart-complete:disabled:hover {\n",
              "    background-color: var(--disabled-bg-color);\n",
              "    fill: var(--disabled-fill-color);\n",
              "    box-shadow: none;\n",
              "  }\n",
              "\n",
              "  .colab-df-spinner {\n",
              "    border: 2px solid var(--fill-color);\n",
              "    border-color: transparent;\n",
              "    border-bottom-color: var(--fill-color);\n",
              "    animation:\n",
              "      spin 1s steps(1) infinite;\n",
              "  }\n",
              "\n",
              "  @keyframes spin {\n",
              "    0% {\n",
              "      border-color: transparent;\n",
              "      border-bottom-color: var(--fill-color);\n",
              "      border-left-color: var(--fill-color);\n",
              "    }\n",
              "    20% {\n",
              "      border-color: transparent;\n",
              "      border-left-color: var(--fill-color);\n",
              "      border-top-color: var(--fill-color);\n",
              "    }\n",
              "    30% {\n",
              "      border-color: transparent;\n",
              "      border-left-color: var(--fill-color);\n",
              "      border-top-color: var(--fill-color);\n",
              "      border-right-color: var(--fill-color);\n",
              "    }\n",
              "    40% {\n",
              "      border-color: transparent;\n",
              "      border-right-color: var(--fill-color);\n",
              "      border-top-color: var(--fill-color);\n",
              "    }\n",
              "    60% {\n",
              "      border-color: transparent;\n",
              "      border-right-color: var(--fill-color);\n",
              "    }\n",
              "    80% {\n",
              "      border-color: transparent;\n",
              "      border-right-color: var(--fill-color);\n",
              "      border-bottom-color: var(--fill-color);\n",
              "    }\n",
              "    90% {\n",
              "      border-color: transparent;\n",
              "      border-bottom-color: var(--fill-color);\n",
              "    }\n",
              "  }\n",
              "</style>\n",
              "\n",
              "  <script>\n",
              "    async function quickchart(key) {\n",
              "      const quickchartButtonEl =\n",
              "        document.querySelector('#' + key + ' button');\n",
              "      quickchartButtonEl.disabled = true;  // To prevent multiple clicks.\n",
              "      quickchartButtonEl.classList.add('colab-df-spinner');\n",
              "      try {\n",
              "        const charts = await google.colab.kernel.invokeFunction(\n",
              "            'suggestCharts', [key], {});\n",
              "      } catch (error) {\n",
              "        console.error('Error during call to suggestCharts:', error);\n",
              "      }\n",
              "      quickchartButtonEl.classList.remove('colab-df-spinner');\n",
              "      quickchartButtonEl.classList.add('colab-df-quickchart-complete');\n",
              "    }\n",
              "    (() => {\n",
              "      let quickchartButtonEl =\n",
              "        document.querySelector('#df-084b37ef-66a3-487a-a13f-f9bf98c21fb5 button');\n",
              "      quickchartButtonEl.style.display =\n",
              "        google.colab.kernel.accessAllowed ? 'block' : 'none';\n",
              "    })();\n",
              "  </script>\n",
              "</div>\n",
              "\n",
              "    </div>\n",
              "  </div>\n"
            ],
            "application/vnd.google.colaboratory.intrinsic+json": {
              "type": "dataframe",
              "summary": "{\n  \"name\": \"mydata\",\n  \"rows\": 8,\n  \"fields\": [\n    {\n      \"column\": \"transaction_id\",\n      \"properties\": {\n        \"dtype\": \"number\",\n        \"std\": 54645.83443375899,\n        \"min\": 1.0,\n        \"max\": 153624.0,\n        \"num_unique_values\": 8,\n        \"samples\": [\n          74739.22068166433,\n          74721.5,\n          153624.0\n        ],\n        \"semantic_type\": \"\",\n        \"description\": \"\"\n      }\n    },\n    {\n      \"column\": \"transaction_qty\",\n      \"properties\": {\n        \"dtype\": \"number\",\n        \"std\": 53714.963619582035,\n        \"min\": 0.5421504454790154,\n        \"max\": 151931.0,\n        \"num_unique_values\": 6,\n        \"samples\": [\n          151931.0,\n          1.4381923373110161,\n          8.0\n        ],\n        \"semantic_type\": \"\",\n        \"description\": \"\"\n      }\n    },\n    {\n      \"column\": \"store_id\",\n      \"properties\": {\n        \"dtype\": \"number\",\n        \"std\": 54312.54787161894,\n        \"min\": 2.074204039944278,\n        \"max\": 153624.0,\n        \"num_unique_values\": 6,\n        \"samples\": [\n          153624.0,\n          5.34139847940426,\n          8.0\n        ],\n        \"semantic_type\": \"\",\n        \"description\": \"\"\n      }\n    },\n    {\n      \"column\": \"product_id\",\n      \"properties\": {\n        \"dtype\": \"number\",\n        \"std\": 54299.45017487948,\n        \"min\": 1.0,\n        \"max\": 153624.0,\n        \"num_unique_values\": 8,\n        \"samples\": [\n          47.92453002135083,\n          47.0,\n          153624.0\n        ],\n        \"semantic_type\": \"\",\n        \"description\": \"\"\n      }\n    },\n    {\n      \"column\": \"unit_price\",\n      \"properties\": {\n        \"dtype\": \"number\",\n        \"std\": 53856.51103137932,\n        \"min\": -10.0,\n        \"max\": 153624.0,\n        \"num_unique_values\": 8,\n        \"samples\": [\n          130.54646598187782,\n          3.0,\n          153624.0\n        ],\n        \"semantic_type\": \"\",\n        \"description\": \"\"\n      }\n    }\n  ]\n}"
            }
          },
          "metadata": {},
          "execution_count": 5
        }
      ]
    },
    {
      "cell_type": "markdown",
      "source": [
        "Kesimpulan dari data statistik ini menunjukkan bahwa dataset ini memiliki beberapa masalah yang perlu dibersihkan sebelum analisis lebih lanjut. Kolom **unit_price** mengandung nilai tidak wajar, seperti harga negatif (-10) dan outlier yang sangat tinggi (9,999), yang memerlukan investigasi lebih lanjut. Selain itu, kolom **transaction_qty** memiliki 1,693 nilai hilang, yang harus ditangani melalui imputasi atau penghapusan. Meskipun kolom lain seperti **transaction_id**, **store_id**, dan **product_id** terlihat konsisten, data tetap memerlukan proses pembersihan untuk memastikan keakuratan analisis. Dengan langkah-langkah pembersihan yang tepat, dataset ini dapat digunakan secara efektif untuk memahami pola penjualan dan mendukung pengambilan keputusan bisnis."
      ],
      "metadata": {
        "id": "M7HnPDG5HEXJ"
      }
    },
    {
      "cell_type": "markdown",
      "source": [
        "# Data Preparation"
      ],
      "metadata": {
        "id": "Jg3x7xnEqLcu"
      }
    },
    {
      "cell_type": "markdown",
      "source": [
        "## Mengatasi Missing Value pada kolom"
      ],
      "metadata": {
        "id": "gTJRPVB8ox8J"
      }
    },
    {
      "cell_type": "code",
      "source": [
        "# mengecek missing value\n",
        "missing_value = mydata.isnull().sum()\n",
        "missing_value"
      ],
      "metadata": {
        "colab": {
          "base_uri": "https://localhost:8080/",
          "height": 429
        },
        "id": "PTRKqD-XoYOQ",
        "outputId": "26329d76-318e-422e-95c4-0c38f3df0bf7"
      },
      "execution_count": null,
      "outputs": [
        {
          "output_type": "execute_result",
          "data": {
            "text/plain": [
              "transaction_id         0\n",
              "transaction_date       0\n",
              "transaction_time       0\n",
              "transaction_qty     1693\n",
              "store_id               0\n",
              "store_location         0\n",
              "product_id             0\n",
              "unit_price             0\n",
              "product_category       0\n",
              "product_type           0\n",
              "product_detail         0\n",
              "dtype: int64"
            ],
            "text/html": [
              "<div>\n",
              "<style scoped>\n",
              "    .dataframe tbody tr th:only-of-type {\n",
              "        vertical-align: middle;\n",
              "    }\n",
              "\n",
              "    .dataframe tbody tr th {\n",
              "        vertical-align: top;\n",
              "    }\n",
              "\n",
              "    .dataframe thead th {\n",
              "        text-align: right;\n",
              "    }\n",
              "</style>\n",
              "<table border=\"1\" class=\"dataframe\">\n",
              "  <thead>\n",
              "    <tr style=\"text-align: right;\">\n",
              "      <th></th>\n",
              "      <th>0</th>\n",
              "    </tr>\n",
              "  </thead>\n",
              "  <tbody>\n",
              "    <tr>\n",
              "      <th>transaction_id</th>\n",
              "      <td>0</td>\n",
              "    </tr>\n",
              "    <tr>\n",
              "      <th>transaction_date</th>\n",
              "      <td>0</td>\n",
              "    </tr>\n",
              "    <tr>\n",
              "      <th>transaction_time</th>\n",
              "      <td>0</td>\n",
              "    </tr>\n",
              "    <tr>\n",
              "      <th>transaction_qty</th>\n",
              "      <td>1693</td>\n",
              "    </tr>\n",
              "    <tr>\n",
              "      <th>store_id</th>\n",
              "      <td>0</td>\n",
              "    </tr>\n",
              "    <tr>\n",
              "      <th>store_location</th>\n",
              "      <td>0</td>\n",
              "    </tr>\n",
              "    <tr>\n",
              "      <th>product_id</th>\n",
              "      <td>0</td>\n",
              "    </tr>\n",
              "    <tr>\n",
              "      <th>unit_price</th>\n",
              "      <td>0</td>\n",
              "    </tr>\n",
              "    <tr>\n",
              "      <th>product_category</th>\n",
              "      <td>0</td>\n",
              "    </tr>\n",
              "    <tr>\n",
              "      <th>product_type</th>\n",
              "      <td>0</td>\n",
              "    </tr>\n",
              "    <tr>\n",
              "      <th>product_detail</th>\n",
              "      <td>0</td>\n",
              "    </tr>\n",
              "  </tbody>\n",
              "</table>\n",
              "</div><br><label><b>dtype:</b> int64</label>"
            ]
          },
          "metadata": {},
          "execution_count": 6
        }
      ]
    },
    {
      "cell_type": "code",
      "source": [
        "#meghitung ratio missing value pada kolom\n",
        "rasio = missing_value.div(len(mydata))\n",
        "rasio"
      ],
      "metadata": {
        "colab": {
          "base_uri": "https://localhost:8080/",
          "height": 429
        },
        "id": "LJ7vWoRUo3_K",
        "outputId": "ad86d7e9-b31d-4fd2-a4e3-c2c8f7f43102"
      },
      "execution_count": null,
      "outputs": [
        {
          "output_type": "execute_result",
          "data": {
            "text/plain": [
              "transaction_id      0.00000\n",
              "transaction_date    0.00000\n",
              "transaction_time    0.00000\n",
              "transaction_qty     0.01102\n",
              "store_id            0.00000\n",
              "store_location      0.00000\n",
              "product_id          0.00000\n",
              "unit_price          0.00000\n",
              "product_category    0.00000\n",
              "product_type        0.00000\n",
              "product_detail      0.00000\n",
              "dtype: float64"
            ],
            "text/html": [
              "<div>\n",
              "<style scoped>\n",
              "    .dataframe tbody tr th:only-of-type {\n",
              "        vertical-align: middle;\n",
              "    }\n",
              "\n",
              "    .dataframe tbody tr th {\n",
              "        vertical-align: top;\n",
              "    }\n",
              "\n",
              "    .dataframe thead th {\n",
              "        text-align: right;\n",
              "    }\n",
              "</style>\n",
              "<table border=\"1\" class=\"dataframe\">\n",
              "  <thead>\n",
              "    <tr style=\"text-align: right;\">\n",
              "      <th></th>\n",
              "      <th>0</th>\n",
              "    </tr>\n",
              "  </thead>\n",
              "  <tbody>\n",
              "    <tr>\n",
              "      <th>transaction_id</th>\n",
              "      <td>0.00000</td>\n",
              "    </tr>\n",
              "    <tr>\n",
              "      <th>transaction_date</th>\n",
              "      <td>0.00000</td>\n",
              "    </tr>\n",
              "    <tr>\n",
              "      <th>transaction_time</th>\n",
              "      <td>0.00000</td>\n",
              "    </tr>\n",
              "    <tr>\n",
              "      <th>transaction_qty</th>\n",
              "      <td>0.01102</td>\n",
              "    </tr>\n",
              "    <tr>\n",
              "      <th>store_id</th>\n",
              "      <td>0.00000</td>\n",
              "    </tr>\n",
              "    <tr>\n",
              "      <th>store_location</th>\n",
              "      <td>0.00000</td>\n",
              "    </tr>\n",
              "    <tr>\n",
              "      <th>product_id</th>\n",
              "      <td>0.00000</td>\n",
              "    </tr>\n",
              "    <tr>\n",
              "      <th>unit_price</th>\n",
              "      <td>0.00000</td>\n",
              "    </tr>\n",
              "    <tr>\n",
              "      <th>product_category</th>\n",
              "      <td>0.00000</td>\n",
              "    </tr>\n",
              "    <tr>\n",
              "      <th>product_type</th>\n",
              "      <td>0.00000</td>\n",
              "    </tr>\n",
              "    <tr>\n",
              "      <th>product_detail</th>\n",
              "      <td>0.00000</td>\n",
              "    </tr>\n",
              "  </tbody>\n",
              "</table>\n",
              "</div><br><label><b>dtype:</b> float64</label>"
            ]
          },
          "metadata": {},
          "execution_count": 7
        }
      ]
    },
    {
      "cell_type": "code",
      "source": [
        "# Mengisi nilai missing dengan median\n",
        "median_value = mydata['transaction_qty'].median()\n",
        "mydata['transaction_qty'].fillna(median_value, inplace=True)"
      ],
      "metadata": {
        "colab": {
          "base_uri": "https://localhost:8080/"
        },
        "id": "gpwt4iCjo4WL",
        "outputId": "6baf0802-b7bd-487b-9843-1fe5be816d44"
      },
      "execution_count": null,
      "outputs": [
        {
          "output_type": "stream",
          "name": "stderr",
          "text": [
            "<ipython-input-8-05db00b995a8>:3: FutureWarning: A value is trying to be set on a copy of a DataFrame or Series through chained assignment using an inplace method.\n",
            "The behavior will change in pandas 3.0. This inplace method will never work because the intermediate object on which we are setting values always behaves as a copy.\n",
            "\n",
            "For example, when doing 'df[col].method(value, inplace=True)', try using 'df.method({col: value}, inplace=True)' or df[col] = df[col].method(value) instead, to perform the operation inplace on the original object.\n",
            "\n",
            "\n",
            "  mydata['transaction_qty'].fillna(median_value, inplace=True)\n"
          ]
        }
      ]
    },
    {
      "cell_type": "code",
      "source": [
        "# mengecek missing value\n",
        "missing_value = mydata.isnull().sum()\n",
        "missing_value"
      ],
      "metadata": {
        "colab": {
          "base_uri": "https://localhost:8080/",
          "height": 429
        },
        "id": "cvK-FFFRqZsz",
        "outputId": "4e29f2bb-7044-400c-b464-7958887b01a6"
      },
      "execution_count": null,
      "outputs": [
        {
          "output_type": "execute_result",
          "data": {
            "text/plain": [
              "transaction_id      0\n",
              "transaction_date    0\n",
              "transaction_time    0\n",
              "transaction_qty     0\n",
              "store_id            0\n",
              "store_location      0\n",
              "product_id          0\n",
              "unit_price          0\n",
              "product_category    0\n",
              "product_type        0\n",
              "product_detail      0\n",
              "dtype: int64"
            ],
            "text/html": [
              "<div>\n",
              "<style scoped>\n",
              "    .dataframe tbody tr th:only-of-type {\n",
              "        vertical-align: middle;\n",
              "    }\n",
              "\n",
              "    .dataframe tbody tr th {\n",
              "        vertical-align: top;\n",
              "    }\n",
              "\n",
              "    .dataframe thead th {\n",
              "        text-align: right;\n",
              "    }\n",
              "</style>\n",
              "<table border=\"1\" class=\"dataframe\">\n",
              "  <thead>\n",
              "    <tr style=\"text-align: right;\">\n",
              "      <th></th>\n",
              "      <th>0</th>\n",
              "    </tr>\n",
              "  </thead>\n",
              "  <tbody>\n",
              "    <tr>\n",
              "      <th>transaction_id</th>\n",
              "      <td>0</td>\n",
              "    </tr>\n",
              "    <tr>\n",
              "      <th>transaction_date</th>\n",
              "      <td>0</td>\n",
              "    </tr>\n",
              "    <tr>\n",
              "      <th>transaction_time</th>\n",
              "      <td>0</td>\n",
              "    </tr>\n",
              "    <tr>\n",
              "      <th>transaction_qty</th>\n",
              "      <td>0</td>\n",
              "    </tr>\n",
              "    <tr>\n",
              "      <th>store_id</th>\n",
              "      <td>0</td>\n",
              "    </tr>\n",
              "    <tr>\n",
              "      <th>store_location</th>\n",
              "      <td>0</td>\n",
              "    </tr>\n",
              "    <tr>\n",
              "      <th>product_id</th>\n",
              "      <td>0</td>\n",
              "    </tr>\n",
              "    <tr>\n",
              "      <th>unit_price</th>\n",
              "      <td>0</td>\n",
              "    </tr>\n",
              "    <tr>\n",
              "      <th>product_category</th>\n",
              "      <td>0</td>\n",
              "    </tr>\n",
              "    <tr>\n",
              "      <th>product_type</th>\n",
              "      <td>0</td>\n",
              "    </tr>\n",
              "    <tr>\n",
              "      <th>product_detail</th>\n",
              "      <td>0</td>\n",
              "    </tr>\n",
              "  </tbody>\n",
              "</table>\n",
              "</div><br><label><b>dtype:</b> int64</label>"
            ]
          },
          "metadata": {},
          "execution_count": 9
        }
      ]
    },
    {
      "cell_type": "markdown",
      "source": [
        "Langkah ini mengatasi missing value pada kolom transaction_qty dengan jumlah 1693 baris atau sekitar 1,1% dari total data. Untuk mengatasi hal ini, dilakukan inputasi dengan mengganti nilai koson pada kolom tersebut menggunakan nilai median. Setelah proses ini, dilakukan pengecekan kembali menggunakan metode isnull().sum() untuk memastikan bahwa tidak ada lagi nilai kosong di semua kolom.Hasil pengecekan menunjukkan bahwa dataset kini telah bersih dari missing value,sehingga siap untuk digunakan dalam analisis lebih lanjut tanpa adanya kendala data yang hilang. Pendekatan ini memastikan data tetap valid dan konsisten tanpa menghapus baris yang berisi informasi penting lainnya."
      ],
      "metadata": {
        "id": "UZRcx4UKTP0h"
      }
    },
    {
      "cell_type": "markdown",
      "source": [
        "## Mengatasi Data Duplikat"
      ],
      "metadata": {
        "id": "_yZbaPh5qeID"
      }
    },
    {
      "cell_type": "code",
      "source": [
        "# Menemukan baris duplikat\n",
        "duplicates = mydata[mydata.duplicated()]\n",
        "print(duplicates)"
      ],
      "metadata": {
        "colab": {
          "base_uri": "https://localhost:8080/"
        },
        "id": "PHSnxWCyqckZ",
        "outputId": "250ff83f-0d54-4f96-a5f4-ede7770aa040"
      },
      "execution_count": null,
      "outputs": [
        {
          "output_type": "stream",
          "name": "stdout",
          "text": [
            "        transaction_id transaction_date transaction_time  transaction_qty  \\\n",
            "149116          116867       2023-06-03         14:04:38              2.0   \n",
            "149117          119521       2023-06-05         17:41:39              1.0   \n",
            "149118          105519       2023-05-23         16:56:17              3.0   \n",
            "149119           29542       2023-02-21         15:40:56              3.0   \n",
            "149121           27954       2023-02-19         08:25:31              1.0   \n",
            "...                ...              ...              ...              ...   \n",
            "153619           55121       2023-04-01         09:53:49              1.0   \n",
            "153620          121955       2023-06-08         07:18:21              1.0   \n",
            "153621           64662       2023-04-12         11:12:20              1.0   \n",
            "153622           62836       2023-04-10         09:47:20              2.0   \n",
            "153623           92919       2023-05-12         12:49:53              2.0   \n",
            "\n",
            "        store_id   store_location  product_id  unit_price product_category  \\\n",
            "149116         5  Lower Manhattan          38        3.75           Coffee   \n",
            "149117         5  Lower Manhattan          79        3.75           Bakery   \n",
            "149118         5  Lower Manhattan          32        3.00           Coffee   \n",
            "149119         5  Lower Manhattan          38        3.75           Coffee   \n",
            "149121         8   Hell's Kitchen          27        3.50           Coffee   \n",
            "...          ...              ...         ...         ...              ...   \n",
            "153619         8   Hell's Kitchen          35        3.10           Coffee   \n",
            "153620         3          Astoria          49        3.00              Tea   \n",
            "153621         8   Hell's Kitchen          65        0.80         Flavours   \n",
            "153622         8   Hell's Kitchen          36        3.75           Coffee   \n",
            "153623         8   Hell's Kitchen          84        0.80         Flavours   \n",
            "\n",
            "                 product_type            product_detail  \n",
            "149116       Barista Espresso                     Latte  \n",
            "149117                  Scone        Jumbo Savory Scone  \n",
            "149118  Gourmet brewed coffee               Ethiopia Rg  \n",
            "149119       Barista Espresso                     Latte  \n",
            "149121  Organic brewed coffee              Brazilian Lg  \n",
            "...                       ...                       ...  \n",
            "153619  Premium brewed coffee  Jamaican Coffee River Rg  \n",
            "153620       Brewed Black tea      English Breakfast Lg  \n",
            "153621       Sugar free syrup  Sugar Free Vanilla syrup  \n",
            "153622  Premium brewed coffee  Jamaican Coffee River Lg  \n",
            "153623          Regular syrup           Chocolate syrup  \n",
            "\n",
            "[3717 rows x 11 columns]\n"
          ]
        }
      ]
    },
    {
      "cell_type": "code",
      "source": [
        "duplicates_with_diff = mydata[mydata.duplicated(keep=False)]\n",
        "print(duplicates_with_diff.loc[duplicates_with_diff['transaction_id'] == 116867])"
      ],
      "metadata": {
        "colab": {
          "base_uri": "https://localhost:8080/"
        },
        "id": "1YmMW1DYq5WM",
        "outputId": "2e56ecc9-ea5c-4bd8-f6cd-3c1d119f8e0d"
      },
      "execution_count": null,
      "outputs": [
        {
          "output_type": "stream",
          "name": "stdout",
          "text": [
            "        transaction_id transaction_date transaction_time  transaction_qty  \\\n",
            "116605          116867       2023-06-03         14:04:38              2.0   \n",
            "149116          116867       2023-06-03         14:04:38              2.0   \n",
            "\n",
            "        store_id   store_location  product_id  unit_price product_category  \\\n",
            "116605         5  Lower Manhattan          38        3.75           Coffee   \n",
            "149116         5  Lower Manhattan          38        3.75           Coffee   \n",
            "\n",
            "            product_type product_detail  \n",
            "116605  Barista Espresso          Latte  \n",
            "149116  Barista Espresso          Latte  \n"
          ]
        }
      ]
    },
    {
      "cell_type": "code",
      "source": [
        "# Hapus duplikat dan simpan dataset bersih\n",
        "data_bersih = mydata.drop_duplicates()\n",
        "\n",
        "# Cek jumlah data setelah pembersihan\n",
        "print(\"Jumlah data setelah pembersihan:\", data_bersih.shape)\n"
      ],
      "metadata": {
        "colab": {
          "base_uri": "https://localhost:8080/"
        },
        "id": "QnUM-2Iir40z",
        "outputId": "917703de-1116-4ceb-f3b5-c0b8ac3209b0"
      },
      "execution_count": null,
      "outputs": [
        {
          "output_type": "stream",
          "name": "stdout",
          "text": [
            "Jumlah data setelah pembersihan: (149907, 11)\n"
          ]
        }
      ]
    },
    {
      "cell_type": "markdown",
      "source": [
        "Proses ini penghapusan duplikat pada dataset ini menunjukkan bahwa terdapat 3,717 baris duplikat dari total data. duplikat tersebut terdeteksi dengan membandingkan seluruh kolom dalam DataFrame, termasuk kolom-kolom seperti transaction_id, store_id, product_type, dan product_detail. Baris-baris duplikat ini, jika tidak dibersihkan, dapat memberikan hasil analisis yang bias, seperti penghitungan total penjualan atau analisis performa produk yang tidak akurat. Setelah dilakukan proses penghapusan duplikat dengan metode  drop_duplicates(), dataset menjadi  lebih bersih dengan hanya menyisakan data unik untuk setiap transaksi. Langkah ini sangat penting untuk memastikan akurasi data, kualitas informasi dan efesiensi analisis.\n",
        "Kesimpulannya proses pembersihan data ini membantu menciptakan dasar yang kuat untuk analisis lanjutan, seperti penentuan produk terlaris, lokasi dengan performa terbaik, atau  evaluasi Harga produk."
      ],
      "metadata": {
        "id": "eLEESHZ6QdRc"
      }
    },
    {
      "cell_type": "markdown",
      "source": [
        "## Menangani Outliers"
      ],
      "metadata": {
        "id": "2xsXNNa8se4k"
      }
    },
    {
      "cell_type": "code",
      "source": [
        "# mengecek outlier pada semua kolom dataset\n",
        "# Fungsi untuk mendeteksi outlier menggunakan IQR\n",
        "def detect_outliers_iqr(data):\n",
        "    Q1 = data.quantile(0.25)\n",
        "    Q3 = data.quantile(0.75)\n",
        "    IQR = Q3 - Q1\n",
        "    lower_bound = Q1 - 1.5 * IQR\n",
        "    upper_bound = Q3 + 1.5 * IQR\n",
        "    outliers = data[(data < lower_bound) | (data > upper_bound)]\n",
        "    return outliers\n",
        "\n",
        "# Iterasi melalui setiap kolom numerik dalam DataFrame\n",
        "for col in mydata.select_dtypes(include=np.number):\n",
        "    outliers = detect_outliers_iqr(mydata[col])\n",
        "    print(f\"Outliers in column '{col}':\")\n",
        "    print(outliers)\n",
        "    print(\"-\" * 20)"
      ],
      "metadata": {
        "colab": {
          "base_uri": "https://localhost:8080/"
        },
        "id": "vXqXc7tfsLpm",
        "outputId": "7ed2791c-e4f6-46c8-db22-e114cfc2d65b"
      },
      "execution_count": null,
      "outputs": [
        {
          "output_type": "stream",
          "name": "stdout",
          "text": [
            "Outliers in column 'transaction_id':\n",
            "Series([], Name: transaction_id, dtype: int64)\n",
            "--------------------\n",
            "Outliers in column 'transaction_qty':\n",
            "4163      4.0\n",
            "4352      4.0\n",
            "9310      8.0\n",
            "9365      8.0\n",
            "16490     4.0\n",
            "21416     4.0\n",
            "21532     4.0\n",
            "38494     4.0\n",
            "38550     4.0\n",
            "38707     4.0\n",
            "38953     4.0\n",
            "39176     6.0\n",
            "60777     4.0\n",
            "61057     4.0\n",
            "61317     4.0\n",
            "61622     6.0\n",
            "68806     8.0\n",
            "68981     8.0\n",
            "87847     4.0\n",
            "87987     4.0\n",
            "88557     4.0\n",
            "88616     4.0\n",
            "94332     4.0\n",
            "97979     8.0\n",
            "98275     8.0\n",
            "122099    4.0\n",
            "122390    4.0\n",
            "122715    4.0\n",
            "122799    4.0\n",
            "123153    4.0\n",
            "123186    6.0\n",
            "129128    4.0\n",
            "133186    8.0\n",
            "133337    8.0\n",
            "133407    8.0\n",
            "148702    8.0\n",
            "Name: transaction_qty, dtype: float64\n",
            "--------------------\n",
            "Outliers in column 'store_id':\n",
            "Series([], Name: store_id, dtype: int64)\n",
            "--------------------\n",
            "Outliers in column 'product_id':\n",
            "Series([], Name: product_id, dtype: int64)\n",
            "--------------------\n",
            "Outliers in column 'unit_price':\n",
            "11         -10.0\n",
            "92        9999.0\n",
            "128       9999.0\n",
            "185       9999.0\n",
            "203        -10.0\n",
            "           ...  \n",
            "153509      15.0\n",
            "153533      18.0\n",
            "153569    9999.0\n",
            "153589     -10.0\n",
            "153603     -10.0\n",
            "Name: unit_price, Length: 8101, dtype: float64\n",
            "--------------------\n"
          ]
        }
      ]
    },
    {
      "cell_type": "markdown",
      "source": [
        "### Outlies Pada Kolom transaction_qty\n"
      ],
      "metadata": {
        "id": "bS6mJf6Wuq8T"
      }
    },
    {
      "cell_type": "code",
      "source": [
        "import matplotlib.pyplot as plt\n",
        "import seaborn as sns\n",
        "\n",
        "# Histogram\n",
        "plt.figure(figsize=(8, 5))\n",
        "sns.histplot(mydata['transaction_qty'], bins=20, kde=True)\n",
        "plt.title('Distribusi Transaction Quantity')\n",
        "plt.xlabel('Transaction Quantity')\n",
        "plt.ylabel('Frekuensi')\n",
        "plt.show()\n",
        "\n",
        "# Boxplot\n",
        "plt.figure(figsize=(8, 5))\n",
        "sns.boxplot(mydata['transaction_qty'])\n",
        "plt.title('Boxplot Transaction Quantity')\n",
        "plt.xlabel('Transaction Quantity')\n",
        "plt.show()"
      ],
      "metadata": {
        "colab": {
          "base_uri": "https://localhost:8080/",
          "height": 943
        },
        "id": "FRNA9hkatDSZ",
        "outputId": "179c817e-6180-4e6f-f614-b612b5a8364e"
      },
      "execution_count": null,
      "outputs": [
        {
          "output_type": "display_data",
          "data": {
            "text/plain": [
              "<Figure size 800x500 with 1 Axes>"
            ],
            "image/png": "[encoded data removed]"
          },
          "metadata": {}
        },
        {
          "output_type": "display_data",
          "data": {
            "text/plain": [
              "<Figure size 800x500 with 1 Axes>"
            ],
            "image/png": "[encoded data removed]"
          },
          "metadata": {}
        }
      ]
    },
    {
      "cell_type": "code",
      "source": [
        "# menangani outliers\n",
        "median_qty = mydata['transaction_qty'].median()\n",
        "\n",
        "# Calculate lower_bound and upper_bound here\n",
        "Q1 = mydata['transaction_qty'].quantile(0.25)\n",
        "Q3 = mydata['transaction_qty'].quantile(0.75)\n",
        "IQR = Q3 - Q1\n",
        "lower_bound = Q1 - 1.5 * IQR\n",
        "upper_bound = Q3 + 1.5 * IQR\n",
        "\n",
        "mydata['transaction_qty'] = mydata['transaction_qty'].apply(lambda x: median_qty if x < lower_bound or x > upper_bound else x)"
      ],
      "metadata": {
        "id": "gG4AnFDCuy0d"
      },
      "execution_count": null,
      "outputs": []
    },
    {
      "cell_type": "code",
      "source": [
        "import matplotlib.pyplot as plt\n",
        "import seaborn as sns\n",
        "\n",
        "# Histogram\n",
        "plt.figure(figsize=(8, 5))\n",
        "sns.histplot(mydata['transaction_qty'], bins=20, kde=True)\n",
        "plt.title('Distribusi Transaction Quantity')\n",
        "plt.xlabel('Transaction Quantity')\n",
        "plt.ylabel('Frekuensi')\n",
        "plt.show()\n",
        "\n",
        "# Boxplot\n",
        "plt.figure(figsize=(8, 5))\n",
        "sns.boxplot(mydata['transaction_qty'])\n",
        "plt.title('Boxplot Transaction Quantity')\n",
        "plt.xlabel('Transaction Quantity')\n",
        "plt.show()"
      ],
      "metadata": {
        "colab": {
          "base_uri": "https://localhost:8080/",
          "height": 943
        },
        "id": "J4zegKTI0o64",
        "outputId": "8bab45db-fc4a-48fb-b65c-747bc0448ff6"
      },
      "execution_count": null,
      "outputs": [
        {
          "output_type": "display_data",
          "data": {
            "text/plain": [
              "<Figure size 800x500 with 1 Axes>"
            ],
            "image/png": "[encoded data removed]"
          },
          "metadata": {}
        },
        {
          "output_type": "display_data",
          "data": {
            "text/plain": [
              "<Figure size 800x500 with 1 Axes>"
            ],
            "image/png": "[encoded data removed]"
          },
          "metadata": {}
        }
      ]
    },
    {
      "cell_type": "markdown",
      "source": [
        "Outliers pada kolom transaction_qty"
      ],
      "metadata": {
        "id": "5sC1IFdnSqV1"
      }
    },
    {
      "cell_type": "markdown",
      "source": [
        "Pada tahap awal pengecekan outliers pada kolom *transaction_qty*, ditemukan bahwa mayoritas transaksi berada pada nilai 1 dan 2, yang menunjukkan pola transaksi sederhana. Namun, terdapat beberapa nilai outliers, yaitu transaksi dengan jumlah 4, 6, dan 8, yang berada di luar rentang interkuartil (IQR) dan memiliki frekuensi yang sangat kecil. Kehadiran nilai ekstrem ini menunjukkan adanya penyimpangan yang dapat memengaruhi hasil analisis jika dibiarkan. Untuk mengatasi masalah ini, dilakukan penanganan dengan mengganti nilai outliers menggunakan median. Pendekatan ini dipilih karena median lebih tahan terhadap pengaruh nilai ekstrem dan dapat menjaga distribusi data tetap stabil tanpa mengubah pola utama. Setelah penanganan, data menjadi lebih bersih dan distribusinya lebih seragam, tanpa adanya nilai-nilai yang menyimpang. Mayoritas transaksi tetap terpusat pada nilai 1 dan 2, mencerminkan pola distribusi asli yang tetap terjaga. Dengan data yang telah diperbaiki ini, analisis lanjutan dapat dilakukan dengan hasil yang lebih akurat dan representatif, tanpa terganggu oleh pengaruh nilai ekstrem."
      ],
      "metadata": {
        "id": "XAMYJ2DNRPsP"
      }
    },
    {
      "cell_type": "markdown",
      "source": [
        "### Outliers Pada Kolom unit_price"
      ],
      "metadata": {
        "id": "WTmStozm1TQG"
      }
    },
    {
      "cell_type": "code",
      "source": [
        "import matplotlib.pyplot as plt\n",
        "import seaborn as sns\n",
        "\n",
        "# Histogram\n",
        "plt.figure(figsize=(8, 5))\n",
        "sns.histplot(mydata['unit_price'], bins=50, kde=True)\n",
        "plt.title('Distribusi Unit Price')\n",
        "plt.xlabel('Unit Price')\n",
        "plt.ylabel('Frekuensi')\n",
        "plt.show()\n",
        "\n",
        "# Boxplot\n",
        "plt.figure(figsize=(8, 5))\n",
        "sns.boxplot(x=mydata['unit_price'])\n",
        "plt.title('Boxplot Unit Price')\n",
        "plt.xlabel('Unit Price')\n",
        "plt.show()"
      ],
      "metadata": {
        "colab": {
          "base_uri": "https://localhost:8080/",
          "height": 957
        },
        "id": "Ls0bTKve1NjV",
        "outputId": "ecbf0d01-bf31-4e5d-c977-f1c2b3d72c5f"
      },
      "execution_count": null,
      "outputs": [
        {
          "output_type": "display_data",
          "data": {
            "text/plain": [
              "<Figure size 800x500 with 1 Axes>"
            ],
            "image/png": "[encoded data removed]"
          },
          "metadata": {}
        },
        {
          "output_type": "display_data",
          "data": {
            "text/plain": [
              "<Figure size 800x500 with 1 Axes>"
            ],
            "image/png": "[encoded data removed]"
          },
          "metadata": {}
        }
      ]
    },
    {
      "cell_type": "code",
      "source": [
        "# Menghitung Q1, Q3, dan IQR\n",
        "Q1 = mydata['unit_price'].quantile(0.25)\n",
        "Q3 = mydata['unit_price'].quantile(0.75)\n",
        "IQR = Q3 - Q1\n",
        "\n",
        "# Batas outlier\n",
        "lower_bound = Q1 - 1.5 * IQR\n",
        "upper_bound = Q3 + 1.5 * IQR\n",
        "\n",
        "print(f\"Batas bawah: {lower_bound}, Batas atas: {upper_bound}\")\n",
        "\n",
        "# Data outlier\n",
        "outliers = mydata[(mydata['unit_price'] < lower_bound) | (mydata['unit_price'] > upper_bound)]\n",
        "print(outliers)"
      ],
      "metadata": {
        "colab": {
          "base_uri": "https://localhost:8080/"
        },
        "id": "a0yfEEQ-1ij2",
        "outputId": "cc294b33-7aee-43c8-9bc0-696cb4323e1d"
      },
      "execution_count": null,
      "outputs": [
        {
          "output_type": "stream",
          "name": "stdout",
          "text": [
            "Batas bawah: 0.625, Batas atas: 5.625\n",
            "        transaction_id transaction_date transaction_time  transaction_qty  \\\n",
            "11                  12       2023-01-01         07:44:35              2.0   \n",
            "92                  93       2023-01-01         10:27:48              2.0   \n",
            "128                129       2023-01-01         11:28:29              2.0   \n",
            "185                186       2023-01-01         12:38:28              2.0   \n",
            "203                204       2023-01-01         12:52:18              1.0   \n",
            "...                ...              ...              ...              ...   \n",
            "153509           39858       2023-03-10         07:08:36              1.0   \n",
            "153533           70645       2023-04-19         09:00:12              1.0   \n",
            "153569          129553       2023-06-14         08:54:09              1.0   \n",
            "153589           26192       2023-02-16         08:40:39              1.0   \n",
            "153603           50099       2023-03-24         11:36:41              2.0   \n",
            "\n",
            "        store_id   store_location  product_id  unit_price product_category  \\\n",
            "11             5  Lower Manhattan          33       -10.0           Coffee   \n",
            "92             8   Hell's Kitchen          47      9999.0              Tea   \n",
            "128            3          Astoria          33      9999.0           Coffee   \n",
            "185            8   Hell's Kitchen          49      9999.0              Tea   \n",
            "203            5  Lower Manhattan          75       -10.0           Bakery   \n",
            "...          ...              ...         ...         ...              ...   \n",
            "153509         8   Hell's Kitchen           5        15.0     Coffee beans   \n",
            "153533         8   Hell's Kitchen           2        18.0     Coffee beans   \n",
            "153569         5  Lower Manhattan          63      9999.0         Flavours   \n",
            "153589         5  Lower Manhattan          32       -10.0           Coffee   \n",
            "153603         8   Hell's Kitchen          48       -10.0              Tea   \n",
            "\n",
            "                 product_type            product_detail  \n",
            "11      Gourmet brewed coffee               Ethiopia Lg  \n",
            "92           Brewed Green tea     Serenity Green Tea Lg  \n",
            "128     Gourmet brewed coffee               Ethiopia Lg  \n",
            "185          Brewed Black tea      English Breakfast Lg  \n",
            "203                    Pastry                 Croissant  \n",
            "...                       ...                       ...  \n",
            "153509          Gourmet Beans    Columbian Medium Roast  \n",
            "153533      House blend Beans  Our Old Time Diner Blend  \n",
            "153569          Regular syrup              Carmel syrup  \n",
            "153589  Gourmet brewed coffee               Ethiopia Rg  \n",
            "153603       Brewed Black tea      English Breakfast Rg  \n",
            "\n",
            "[8101 rows x 11 columns]\n"
          ]
        }
      ]
    },
    {
      "cell_type": "code",
      "source": [
        "# Menangani nilai negatif dengan menggantinya dengan NaN\n",
        "mydata['unit_price'] = mydata['unit_price'].apply(lambda x: x if x >= 0 else None)"
      ],
      "metadata": {
        "id": "9PHG4-sG1qaf"
      },
      "execution_count": null,
      "outputs": []
    },
    {
      "cell_type": "code",
      "source": [
        "# Mengganti nilai ekstrem dengan NaN\n",
        "upper_limit = 1000  # Tentukan batas harga yang masuk akal\n",
        "mydata['unit_price'] = mydata['unit_price'].apply(lambda x: x if x <= upper_limit else None)"
      ],
      "metadata": {
        "id": "iMqv7hzm2D5Q"
      },
      "execution_count": null,
      "outputs": []
    },
    {
      "cell_type": "code",
      "source": [
        "# Mengisi nilai NaN dengann median\n",
        "median_price = mydata['unit_price'].median()\n",
        "mydata['unit_price'] = mydata['unit_price'].fillna(median_price)"
      ],
      "metadata": {
        "id": "358RNbOb2IJl"
      },
      "execution_count": null,
      "outputs": []
    },
    {
      "cell_type": "code",
      "source": [
        "# Cek Verifikasi Setelah Penanganan\n",
        "print(mydata['unit_price'].describe())\n",
        "\n",
        "# Plot ulang untuk memverifikasi\n",
        "import seaborn as sns\n",
        "sns.boxplot(x=mydata['unit_price'])"
      ],
      "metadata": {
        "colab": {
          "base_uri": "https://localhost:8080/",
          "height": 632
        },
        "id": "5sGDFaSa2NHN",
        "outputId": "cba3e8f9-57b9-4010-b7b0-ede656178df5"
      },
      "execution_count": null,
      "outputs": [
        {
          "output_type": "stream",
          "name": "stdout",
          "text": [
            "count    153624.000000\n",
            "mean          3.371454\n",
            "std           2.619969\n",
            "min           0.800000\n",
            "25%           2.500000\n",
            "50%           3.000000\n",
            "75%           3.750000\n",
            "max          45.000000\n",
            "Name: unit_price, dtype: float64\n"
          ]
        },
        {
          "output_type": "execute_result",
          "data": {
            "text/plain": [
              "<Axes: xlabel='unit_price'>"
            ]
          },
          "metadata": {},
          "execution_count": 22
        },
        {
          "output_type": "display_data",
          "data": {
            "text/plain": [
              "<Figure size 640x480 with 1 Axes>"
            ],
            "image/png": "[encoded data removed]"
          },
          "metadata": {}
        }
      ]
    },
    {
      "cell_type": "markdown",
      "source": [
        "Pada awal analisis, ditemukan bahwa kolom unit_price memiliki distribusi yang sangat miring ke kanan (right-skewed) dengan sebagian besar nilai berada di kisaran rendah. Selain itu, terdapat outliers berupa nilai negatif dan nilai ekstrem yang tidak masuk akal, seperti -10 dan 9999. Berdasarkan perhitungan menggunakan metode IQR, batas bawah ditentukan sebesar 0.625 dan batas atas sebesar 5.625, sehingga nilai di luar rentang ini dikategorikan sebagai outliers. Untuk menangani hal ini, nilai negatif dan nilai ekstrem (>1000) diganti dengan *NaN* agar tidak memengaruhi analisis. Selanjutnya, nilai *NaN* tersebut diisi menggunakan median *unit_price*, yaitu 3.5, karena median lebih tahan terhadap pengaruh outliers. Setelah proses pembersihan, data menjadi lebih wajar dengan nilai maksimum hanya 45 dan rata-rata sekitar 3.37. Verifikasi melalui boxplot menunjukkan distribusi data yang lebih terkonsentrasi tanpa nilai ekstrem yang signifikan. Dengan data yang telah dibersihkan, analisis lebih lanjut dapat dilakukan dengan hasil yang lebih akurat dan dapat diandalkan."
      ],
      "metadata": {
        "id": "fS2DAYd_RXw0"
      }
    },
    {
      "cell_type": "markdown",
      "source": [
        "## Mengatasi Invalid Date"
      ],
      "metadata": {
        "id": "zQfeFOB_36Ue"
      }
    },
    {
      "cell_type": "code",
      "source": [
        "# Ganti tanggal tidak valid dengan nilai default\n",
        "mydata['transaction_date'] = mydata['transaction_date'].apply(\n",
        "    lambda x: '2023-01-01' if \"INVALID\" in str(x) else x\n",
        ")"
      ],
      "metadata": {
        "id": "7VteqRzo2U2E"
      },
      "execution_count": null,
      "outputs": []
    },
    {
      "cell_type": "code",
      "source": [
        "# Konversi ke format datetime\n",
        "mydata['transaction_date'] = pd.to_datetime(mydata['transaction_date'], errors='coerce')\n",
        "\n",
        "# Cek jika masih ada nilai NaT (Not a Time)\n",
        "invalid_after_conversion = mydata[mydata['transaction_date'].isna()]\n",
        "print(\"Baris yang masih tidak valid setelah konversi datetime:\")\n",
        "print(invalid_after_conversion)"
      ],
      "metadata": {
        "colab": {
          "base_uri": "https://localhost:8080/"
        },
        "id": "Up_jJKID3td1",
        "outputId": "ec8f7f24-744b-4382-c450-afaab71836a8"
      },
      "execution_count": null,
      "outputs": [
        {
          "output_type": "stream",
          "name": "stdout",
          "text": [
            "Baris yang masih tidak valid setelah konversi datetime:\n",
            "Empty DataFrame\n",
            "Columns: [transaction_id, transaction_date, transaction_time, transaction_qty, store_id, store_location, product_id, unit_price, product_category, product_type, product_detail]\n",
            "Index: []\n"
          ]
        }
      ]
    },
    {
      "cell_type": "code",
      "source": [
        "# cek type data transaction_date setelah di transformasi\n",
        "mydata.info()"
      ],
      "metadata": {
        "colab": {
          "base_uri": "https://localhost:8080/"
        },
        "id": "U8bz-K2E3zla",
        "outputId": "d9815bb6-e046-433c-d790-c19fcb527255"
      },
      "execution_count": null,
      "outputs": [
        {
          "output_type": "stream",
          "name": "stdout",
          "text": [
            "<class 'pandas.core.frame.DataFrame'>\n",
            "RangeIndex: 153624 entries, 0 to 153623\n",
            "Data columns (total 11 columns):\n",
            " #   Column            Non-Null Count   Dtype         \n",
            "---  ------            --------------   -----         \n",
            " 0   transaction_id    153624 non-null  int64         \n",
            " 1   transaction_date  153624 non-null  datetime64[ns]\n",
            " 2   transaction_time  153624 non-null  object        \n",
            " 3   transaction_qty   153624 non-null  float64       \n",
            " 4   store_id          153624 non-null  int64         \n",
            " 5   store_location    153624 non-null  object        \n",
            " 6   product_id        153624 non-null  int64         \n",
            " 7   unit_price        153624 non-null  float64       \n",
            " 8   product_category  153624 non-null  object        \n",
            " 9   product_type      153624 non-null  object        \n",
            " 10  product_detail    153624 non-null  object        \n",
            "dtypes: datetime64[ns](1), float64(2), int64(3), object(5)\n",
            "memory usage: 12.9+ MB\n"
          ]
        }
      ]
    },
    {
      "cell_type": "markdown",
      "source": [
        "Kolom *transaction_date* pada dataset telah berhasil ditangani untuk memastikan kualitas dan validitas data. Nilai yang tidak valid, seperti yang mengandung teks \"INVALID\", diganti dengan tanggal default \"2023-01-01\" untuk mengatasi masalah ketidaksesuaian data. Setelah itu, kolom tersebut dikonversi ke format datetime menggunakan fungsi *pd.to_datetime(), dengan argumen **errors='coerce'* untuk mengganti nilai yang tidak dapat dikonversi menjadi *NaT* (Not a Time). Validasi lebih lanjut menunjukkan bahwa tidak ada nilai *NaT* yang tersisa setelah proses konversi, memastikan bahwa semua data dalam kolom *transaction_date* sudah valid. Terakhir, tipe data kolom ini berhasil diubah menjadi *datetime64[ns], yang mempermudah analisis berbasis waktu. Dengan transformasi ini, kolom **transaction_date* kini siap digunakan untuk analisis lebih lanjut, seperti pengelompokan data berdasarkan waktu atau identifikasi tren temporal, tanpa gangguan dari data yang tidak valid."
      ],
      "metadata": {
        "id": "eauXJbCgReIF"
      }
    },
    {
      "cell_type": "markdown",
      "source": [
        "## Menangani Text Errors / Tidak valid"
      ],
      "metadata": {
        "id": "VmNQhnFG8NBl"
      }
    },
    {
      "cell_type": "markdown",
      "source": [
        "### Text errors pada kolom store_location"
      ],
      "metadata": {
        "id": "FOCxKzzk8cKB"
      }
    },
    {
      "cell_type": "code",
      "source": [
        "# Cek jumlah masing masing isi dari kolom lokasi store\n",
        "value_counts = mydata['store_location'].value_counts()\n",
        "print(value_counts)"
      ],
      "metadata": {
        "id": "H_poQvOU32VP",
        "colab": {
          "base_uri": "https://localhost:8080/"
        },
        "outputId": "bf63ee1e-9405-4fc9-aeed-c4ef7924dfc7"
      },
      "execution_count": null,
      "outputs": [
        {
          "output_type": "stream",
          "name": "stdout",
          "text": [
            "store_location\n",
            "Hell's Kitchen     50669\n",
            "Astoria            50603\n",
            "Lower Manhattan    47670\n",
            "Hel's Kitchen       4682\n",
            "Name: count, dtype: int64\n"
          ]
        }
      ]
    },
    {
      "cell_type": "markdown",
      "source": [
        "Dapat dilihat bahwa Hel's Kitchen adalah text error dari Hell's Kitchen"
      ],
      "metadata": {
        "id": "mv3QUKS_539f"
      }
    },
    {
      "cell_type": "code",
      "source": [
        "# Mengganti \"Hel's Kitchen\" dengan \"Hell's Kitche\"\n",
        "mydata['store_location'] = mydata['store_location'].replace(\"Hel's Kitchen\", \"Hell's Kitchen\")"
      ],
      "metadata": {
        "id": "JSPkitmf5uRh"
      },
      "execution_count": null,
      "outputs": []
    },
    {
      "cell_type": "code",
      "source": [
        "# Cek kembali jumlah masing masing isi dari kolom lokasi store\n",
        "value_counts = mydata['store_location'].value_counts()\n",
        "print(value_counts)"
      ],
      "metadata": {
        "colab": {
          "base_uri": "https://localhost:8080/"
        },
        "id": "3WHtB-Iy7fxg",
        "outputId": "c2a90487-1d50-4f61-90e4-d2d6e30b2ae3"
      },
      "execution_count": null,
      "outputs": [
        {
          "output_type": "stream",
          "name": "stdout",
          "text": [
            "store_location\n",
            "Hell's Kitchen     55351\n",
            "Astoria            50603\n",
            "Lower Manhattan    47670\n",
            "Name: count, dtype: int64\n"
          ]
        }
      ]
    },
    {
      "cell_type": "markdown",
      "source": [
        "1. Pengecekan Awal\n",
        "- Dilakukan pengecekan terhadap jumlah masing-masing nilai unik dalam kolom store_location.\n",
        "-Ditemukan bahwa ada dua entri yang mirip: \"Hell's Kitchen\" (50.669 kali) dan \"Hel's Kitchen\" (4.682 kali).\n",
        "-Ini menunjukkan adanya kesalahan penulisan (typo) pada \"Hel's Kitchen\".\n",
        "\n",
        "2. Perbaikan Data\n",
        "- Kode melakukan penggantian \"Hel's Kitchen\" menjadi \"Hell's Kitchen\" menggunakan .replace() pada kolom store_location.\n",
        "\n",
        "3. Pengecekan Setelah Perbaikan\n",
        "- Setelah perbaikan, \"Hell's Kitchen\" meningkat menjadi 55.351 (50.669 + 4.682).\n",
        "- \"Hel's Kitchen\" sudah tidak ada lagi dalam data.\n",
        "\n",
        "Kesimpulan:\n",
        "Kesalahan penulisan \"Hel's Kitchen\" berhasil diperbaiki dengan menggantinya menjadi \"Hell's Kitchen\", sehingga data dalam kolom store_location menjadi lebih bersih dan konsisten."
      ],
      "metadata": {
        "id": "knTRSHebQIaD"
      }
    },
    {
      "cell_type": "markdown",
      "source": [
        "### Invalid Kategori pada kolom product_category"
      ],
      "metadata": {
        "id": "CgZLfE3x_V-j"
      }
    },
    {
      "cell_type": "code",
      "source": [
        "# Cek jumlah masing masing isi dari kolom product category\n",
        "value_counts = mydata['product_category'].value_counts()\n",
        "print(value_counts)"
      ],
      "metadata": {
        "colab": {
          "base_uri": "https://localhost:8080/"
        },
        "id": "Bp_9vVbb7iLI",
        "outputId": "d434c35f-7ea7-42de-9ebc-719156acd054"
      },
      "execution_count": null,
      "outputs": [
        {
          "output_type": "stream",
          "name": "stdout",
          "text": [
            "product_category\n",
            "Coffee                58564\n",
            "Tea                   45577\n",
            "Bakery                22945\n",
            "Drinking Chocolate    11529\n",
            "Flavours               6840\n",
            "Unknown                3943\n",
            "Coffee beans           1775\n",
            "Loose Tea              1212\n",
            "Branded                 753\n",
            "Packaged Chocolate      486\n",
            "Name: count, dtype: int64\n"
          ]
        }
      ]
    },
    {
      "cell_type": "markdown",
      "source": [
        "Terdapat Unknown sebesar 3943"
      ],
      "metadata": {
        "id": "4t8sueny_m20"
      }
    },
    {
      "cell_type": "code",
      "source": [
        "# Mencari kategori yang paling sering muncul\n",
        "most_category = mydata['product_category'].value_counts().idxmax()\n",
        "most_category"
      ],
      "metadata": {
        "colab": {
          "base_uri": "https://localhost:8080/",
          "height": 36
        },
        "id": "SSz97jLy_lQA",
        "outputId": "287e593a-097f-47d5-a93b-308aebbfb48d"
      },
      "execution_count": null,
      "outputs": [
        {
          "output_type": "execute_result",
          "data": {
            "text/plain": [
              "'Coffee'"
            ],
            "application/vnd.google.colaboratory.intrinsic+json": {
              "type": "string"
            }
          },
          "metadata": {},
          "execution_count": 30
        }
      ]
    },
    {
      "cell_type": "code",
      "source": [
        "# Mengganti 'Unknown' dengan kategori yang paling sering muncul\n",
        "mydata.loc[mydata['product_category'] == 'Unknown', 'product_category'] = most_category"
      ],
      "metadata": {
        "id": "TO7G386iA5f5"
      },
      "execution_count": null,
      "outputs": []
    },
    {
      "cell_type": "code",
      "source": [
        "# Cek jumlah masing masing isi dari kolom product category\n",
        "value_counts = mydata['product_category'].value_counts()\n",
        "print(value_counts)"
      ],
      "metadata": {
        "id": "0wwB2m2EBEGV",
        "outputId": "1c0c53f7-e010-4f17-d1ed-b58db6caad9e",
        "colab": {
          "base_uri": "https://localhost:8080/"
        }
      },
      "execution_count": null,
      "outputs": [
        {
          "output_type": "stream",
          "name": "stdout",
          "text": [
            "product_category\n",
            "Coffee                62507\n",
            "Tea                   45577\n",
            "Bakery                22945\n",
            "Drinking Chocolate    11529\n",
            "Flavours               6840\n",
            "Coffee beans           1775\n",
            "Loose Tea              1212\n",
            "Branded                 753\n",
            "Packaged Chocolate      486\n",
            "Name: count, dtype: int64\n"
          ]
        }
      ]
    },
    {
      "cell_type": "code",
      "source": [],
      "metadata": {
        "id": "_Il4E9wLQQL6"
      },
      "execution_count": null,
      "outputs": []
    },
    {
      "cell_type": "markdown",
      "source": [
        "1. Identifikasi Kategori \"Unknown\"\n",
        "- Dari hasil value_counts(), terdapat 3.943 data dengan kategori \"Unknown\" dalam kolom product_category.\n",
        "\n",
        "2. Menentukan Kategori Terbanyak\n",
        "- Kategori yang paling sering muncul adalah \"Coffee\" dengan 58.564 data.\n",
        "\n",
        "3. Mengganti \"Unknown\" dengan Kategori Terbanyak\n",
        "- Semua data yang memiliki kategori \"Unknown\" diganti dengan \"Coffee\".\n",
        "\n",
        "4. Verifikasi Hasil Perubahan\n",
        "- Setelah perubahan, jumlah kategori \"Coffee\" meningkat menjadi 62.507 (karena bertambah 3.943 dari kategori \"Unknown\").\n",
        "- Kategori \"Unknown\" berhasil dihapus dari dataset.\n",
        "\n",
        "Kesimpulan\n",
        "Proses ini berhasil membersihkan data dengan mengganti kategori \"Unknown\" menggunakan kategori paling umum, yaitu \"Coffee\". Hal ini meningkatkan kualitas dataset tanpa menghapus data, membuat analisis lebih akurat, dan memastikan interpretasi hasil yang lebih jelas. Dengan demikian, data menjadi lebih bersih dan lebih dapat diandalkan untuk pengambilan keputusan"
      ],
      "metadata": {
        "id": "L42QyicwQPci"
      }
    },
    {
      "cell_type": "markdown",
      "source": [
        "# Data Bersih"
      ],
      "metadata": {
        "id": "XGnqAr85MbkA"
      }
    },
    {
      "cell_type": "code",
      "source": [
        "mydata.info()"
      ],
      "metadata": {
        "colab": {
          "base_uri": "https://localhost:8080/"
        },
        "id": "L3iq77BqMwyP",
        "outputId": "02cad37a-7500-4783-d831-50fe320d7ee8"
      },
      "execution_count": null,
      "outputs": [
        {
          "output_type": "stream",
          "name": "stdout",
          "text": [
            "<class 'pandas.core.frame.DataFrame'>\n",
            "RangeIndex: 153624 entries, 0 to 153623\n",
            "Data columns (total 11 columns):\n",
            " #   Column            Non-Null Count   Dtype         \n",
            "---  ------            --------------   -----         \n",
            " 0   transaction_id    153624 non-null  int64         \n",
            " 1   transaction_date  153624 non-null  datetime64[ns]\n",
            " 2   transaction_time  153624 non-null  object        \n",
            " 3   transaction_qty   153624 non-null  float64       \n",
            " 4   store_id          153624 non-null  int64         \n",
            " 5   store_location    153624 non-null  object        \n",
            " 6   product_id        153624 non-null  int64         \n",
            " 7   unit_price        153624 non-null  float64       \n",
            " 8   product_category  153624 non-null  object        \n",
            " 9   product_type      153624 non-null  object        \n",
            " 10  product_detail    153624 non-null  object        \n",
            "dtypes: datetime64[ns](1), float64(2), int64(3), object(5)\n",
            "memory usage: 12.9+ MB\n"
          ]
        }
      ]
    },
    {
      "cell_type": "code",
      "source": [
        "mydata.head()"
      ],
      "metadata": {
        "colab": {
          "base_uri": "https://localhost:8080/",
          "height": 313
        },
        "id": "8wwZQRMQNTUi",
        "outputId": "d296ec45-0c8a-4ce7-ca98-26479c95ce8f"
      },
      "execution_count": null,
      "outputs": [
        {
          "output_type": "execute_result",
          "data": {
            "text/plain": [
              "   transaction_id transaction_date transaction_time  transaction_qty  \\\n",
              "0               1       2023-01-01         07:06:11              1.0   \n",
              "1               2       2023-01-01         07:08:56              2.0   \n",
              "2               3       2023-01-01         07:14:04              2.0   \n",
              "3               4       2023-01-01         07:20:24              1.0   \n",
              "4               5       2023-01-01         07:22:41              2.0   \n",
              "\n",
              "   store_id   store_location  product_id  unit_price    product_category  \\\n",
              "0         5  Lower Manhattan          32         3.0              Coffee   \n",
              "1         5  Lower Manhattan          57         3.1                 Tea   \n",
              "2         5  Lower Manhattan          59         4.5  Drinking Chocolate   \n",
              "3         5  Lower Manhattan          22         2.0              Coffee   \n",
              "4         5  Lower Manhattan          57         3.1                 Tea   \n",
              "\n",
              "            product_type               product_detail  \n",
              "0  Gourmet brewed coffee                  Ethiopia Rg  \n",
              "1        Brewed Chai tea     Spicy Eye Opener Chai Lg  \n",
              "2          Hot chocolate            Dark chocolate Lg  \n",
              "3            Drip coffee  Our Old Time Diner Blend Sm  \n",
              "4        Brewed Chai tea     Spicy Eye Opener Chai Lg  "
            ],
            "text/html": [
              "\n",
              "  <div id=\"df-910237a5-4647-4d2b-b134-8ed30ea9b0e2\" class=\"colab-df-container\">\n",
              "    <div>\n",
              "<style scoped>\n",
              "    .dataframe tbody tr th:only-of-type {\n",
              "        vertical-align: middle;\n",
              "    }\n",
              "\n",
              "    .dataframe tbody tr th {\n",
              "        vertical-align: top;\n",
              "    }\n",
              "\n",
              "    .dataframe thead th {\n",
              "        text-align: right;\n",
              "    }\n",
              "</style>\n",
              "<table border=\"1\" class=\"dataframe\">\n",
              "  <thead>\n",
              "    <tr style=\"text-align: right;\">\n",
              "      <th></th>\n",
              "      <th>transaction_id</th>\n",
              "      <th>transaction_date</th>\n",
              "      <th>transaction_time</th>\n",
              "      <th>transaction_qty</th>\n",
              "      <th>store_id</th>\n",
              "      <th>store_location</th>\n",
              "      <th>product_id</th>\n",
              "      <th>unit_price</th>\n",
              "      <th>product_category</th>\n",
              "      <th>product_type</th>\n",
              "      <th>product_detail</th>\n",
              "    </tr>\n",
              "  </thead>\n",
              "  <tbody>\n",
              "    <tr>\n",
              "      <th>0</th>\n",
              "      <td>1</td>\n",
              "      <td>2023-01-01</td>\n",
              "      <td>07:06:11</td>\n",
              "      <td>1.0</td>\n",
              "      <td>5</td>\n",
              "      <td>Lower Manhattan</td>\n",
              "      <td>32</td>\n",
              "      <td>3.0</td>\n",
              "      <td>Coffee</td>\n",
              "      <td>Gourmet brewed coffee</td>\n",
              "      <td>Ethiopia Rg</td>\n",
              "    </tr>\n",
              "    <tr>\n",
              "      <th>1</th>\n",
              "      <td>2</td>\n",
              "      <td>2023-01-01</td>\n",
              "      <td>07:08:56</td>\n",
              "      <td>2.0</td>\n",
              "      <td>5</td>\n",
              "      <td>Lower Manhattan</td>\n",
              "      <td>57</td>\n",
              "      <td>3.1</td>\n",
              "      <td>Tea</td>\n",
              "      <td>Brewed Chai tea</td>\n",
              "      <td>Spicy Eye Opener Chai Lg</td>\n",
              "    </tr>\n",
              "    <tr>\n",
              "      <th>2</th>\n",
              "      <td>3</td>\n",
              "      <td>2023-01-01</td>\n",
              "      <td>07:14:04</td>\n",
              "      <td>2.0</td>\n",
              "      <td>5</td>\n",
              "      <td>Lower Manhattan</td>\n",
              "      <td>59</td>\n",
              "      <td>4.5</td>\n",
              "      <td>Drinking Chocolate</td>\n",
              "      <td>Hot chocolate</td>\n",
              "      <td>Dark chocolate Lg</td>\n",
              "    </tr>\n",
              "    <tr>\n",
              "      <th>3</th>\n",
              "      <td>4</td>\n",
              "      <td>2023-01-01</td>\n",
              "      <td>07:20:24</td>\n",
              "      <td>1.0</td>\n",
              "      <td>5</td>\n",
              "      <td>Lower Manhattan</td>\n",
              "      <td>22</td>\n",
              "      <td>2.0</td>\n",
              "      <td>Coffee</td>\n",
              "      <td>Drip coffee</td>\n",
              "      <td>Our Old Time Diner Blend Sm</td>\n",
              "    </tr>\n",
              "    <tr>\n",
              "      <th>4</th>\n",
              "      <td>5</td>\n",
              "      <td>2023-01-01</td>\n",
              "      <td>07:22:41</td>\n",
              "      <td>2.0</td>\n",
              "      <td>5</td>\n",
              "      <td>Lower Manhattan</td>\n",
              "      <td>57</td>\n",
              "      <td>3.1</td>\n",
              "      <td>Tea</td>\n",
              "      <td>Brewed Chai tea</td>\n",
              "      <td>Spicy Eye Opener Chai Lg</td>\n",
              "    </tr>\n",
              "  </tbody>\n",
              "</table>\n",
              "</div>\n",
              "    <div class=\"colab-df-buttons\">\n",
              "\n",
              "  <div class=\"colab-df-container\">\n",
              "    <button class=\"colab-df-convert\" onclick=\"convertToInteractive('df-910237a5-4647-4d2b-b134-8ed30ea9b0e2')\"\n",
              "            title=\"Convert this dataframe to an interactive table.\"\n",
              "            style=\"display:none;\">\n",
              "\n",
              "  <svg xmlns=\"http://www.w3.org/2000/svg\" height=\"24px\" viewBox=\"0 -960 960 960\">\n",
              "    <path d=\"M120-120v-720h720v720H120Zm60-500h600v-160H180v160Zm220 220h160v-160H400v160Zm0 220h160v-160H400v160ZM180-400h160v-160H180v160Zm440 0h160v-160H620v160ZM180-180h160v-160H180v160Zm440 0h160v-160H620v160Z\"/>\n",
              "  </svg>\n",
              "    </button>\n",
              "\n",
              "  <style>\n",
              "    .colab-df-container {\n",
              "      display:flex;\n",
              "      gap: 12px;\n",
              "    }\n",
              "\n",
              "    .colab-df-convert {\n",
              "      background-color: #E8F0FE;\n",
              "      border: none;\n",
              "      border-radius: 50%;\n",
              "      cursor: pointer;\n",
              "      display: none;\n",
              "      fill: #1967D2;\n",
              "      height: 32px;\n",
              "      padding: 0 0 0 0;\n",
              "      width: 32px;\n",
              "    }\n",
              "\n",
              "    .colab-df-convert:hover {\n",
              "      background-color: #E2EBFA;\n",
              "      box-shadow: 0px 1px 2px rgba(60, 64, 67, 0.3), 0px 1px 3px 1px rgba(60, 64, 67, 0.15);\n",
              "      fill: #174EA6;\n",
              "    }\n",
              "\n",
              "    .colab-df-buttons div {\n",
              "      margin-bottom: 4px;\n",
              "    }\n",
              "\n",
              "    [theme=dark] .colab-df-convert {\n",
              "      background-color: #3B4455;\n",
              "      fill: #D2E3FC;\n",
              "    }\n",
              "\n",
              "    [theme=dark] .colab-df-convert:hover {\n",
              "      background-color: #434B5C;\n",
              "      box-shadow: 0px 1px 3px 1px rgba(0, 0, 0, 0.15);\n",
              "      filter: drop-shadow(0px 1px 2px rgba(0, 0, 0, 0.3));\n",
              "      fill: #FFFFFF;\n",
              "    }\n",
              "  </style>\n",
              "\n",
              "    <script>\n",
              "      const buttonEl =\n",
              "        document.querySelector('#df-910237a5-4647-4d2b-b134-8ed30ea9b0e2 button.colab-df-convert');\n",
              "      buttonEl.style.display =\n",
              "        google.colab.kernel.accessAllowed ? 'block' : 'none';\n",
              "\n",
              "      async function convertToInteractive(key) {\n",
              "        const element = document.querySelector('#df-910237a5-4647-4d2b-b134-8ed30ea9b0e2');\n",
              "        const dataTable =\n",
              "          await google.colab.kernel.invokeFunction('convertToInteractive',\n",
              "                                                    [key], {});\n",
              "        if (!dataTable) return;\n",
              "\n",
              "        const docLinkHtml = 'Like what you see? Visit the ' +\n",
              "          '<a target=\"_blank\" href=https://colab.research.google.com/notebooks/data_table.ipynb>data table notebook</a>'\n",
              "          + ' to learn more about interactive tables.';\n",
              "        element.innerHTML = '';\n",
              "        dataTable['output_type'] = 'display_data';\n",
              "        await google.colab.output.renderOutput(dataTable, element);\n",
              "        const docLink = document.createElement('div');\n",
              "        docLink.innerHTML = docLinkHtml;\n",
              "        element.appendChild(docLink);\n",
              "      }\n",
              "    </script>\n",
              "  </div>\n",
              "\n",
              "\n",
              "<div id=\"df-ada26ce3-519a-4fd4-90d0-fc06f80839e0\">\n",
              "  <button class=\"colab-df-quickchart\" onclick=\"quickchart('df-ada26ce3-519a-4fd4-90d0-fc06f80839e0')\"\n",
              "            title=\"Suggest charts\"\n",
              "            style=\"display:none;\">\n",
              "\n",
              "<svg xmlns=\"http://www.w3.org/2000/svg\" height=\"24px\"viewBox=\"0 0 24 24\"\n",
              "     width=\"24px\">\n",
              "    <g>\n",
              "        <path d=\"M19 3H5c-1.1 0-2 .9-2 2v14c0 1.1.9 2 2 2h14c1.1 0 2-.9 2-2V5c0-1.1-.9-2-2-2zM9 17H7v-7h2v7zm4 0h-2V7h2v10zm4 0h-2v-4h2v4z\"/>\n",
              "    </g>\n",
              "</svg>\n",
              "  </button>\n",
              "\n",
              "<style>\n",
              "  .colab-df-quickchart {\n",
              "      --bg-color: #E8F0FE;\n",
              "      --fill-color: #1967D2;\n",
              "      --hover-bg-color: #E2EBFA;\n",
              "      --hover-fill-color: #174EA6;\n",
              "      --disabled-fill-color: #AAA;\n",
              "      --disabled-bg-color: #DDD;\n",
              "  }\n",
              "\n",
              "  [theme=dark] .colab-df-quickchart {\n",
              "      --bg-color: #3B4455;\n",
              "      --fill-color: #D2E3FC;\n",
              "      --hover-bg-color: #434B5C;\n",
              "      --hover-fill-color: #FFFFFF;\n",
              "      --disabled-bg-color: #3B4455;\n",
              "      --disabled-fill-color: #666;\n",
              "  }\n",
              "\n",
              "  .colab-df-quickchart {\n",
              "    background-color: var(--bg-color);\n",
              "    border: none;\n",
              "    border-radius: 50%;\n",
              "    cursor: pointer;\n",
              "    display: none;\n",
              "    fill: var(--fill-color);\n",
              "    height: 32px;\n",
              "    padding: 0;\n",
              "    width: 32px;\n",
              "  }\n",
              "\n",
              "  .colab-df-quickchart:hover {\n",
              "    background-color: var(--hover-bg-color);\n",
              "    box-shadow: 0 1px 2px rgba(60, 64, 67, 0.3), 0 1px 3px 1px rgba(60, 64, 67, 0.15);\n",
              "    fill: var(--button-hover-fill-color);\n",
              "  }\n",
              "\n",
              "  .colab-df-quickchart-complete:disabled,\n",
              "  .colab-df-quickchart-complete:disabled:hover {\n",
              "    background-color: var(--disabled-bg-color);\n",
              "    fill: var(--disabled-fill-color);\n",
              "    box-shadow: none;\n",
              "  }\n",
              "\n",
              "  .colab-df-spinner {\n",
              "    border: 2px solid var(--fill-color);\n",
              "    border-color: transparent;\n",
              "    border-bottom-color: var(--fill-color);\n",
              "    animation:\n",
              "      spin 1s steps(1) infinite;\n",
              "  }\n",
              "\n",
              "  @keyframes spin {\n",
              "    0% {\n",
              "      border-color: transparent;\n",
              "      border-bottom-color: var(--fill-color);\n",
              "      border-left-color: var(--fill-color);\n",
              "    }\n",
              "    20% {\n",
              "      border-color: transparent;\n",
              "      border-left-color: var(--fill-color);\n",
              "      border-top-color: var(--fill-color);\n",
              "    }\n",
              "    30% {\n",
              "      border-color: transparent;\n",
              "      border-left-color: var(--fill-color);\n",
              "      border-top-color: var(--fill-color);\n",
              "      border-right-color: var(--fill-color);\n",
              "    }\n",
              "    40% {\n",
              "      border-color: transparent;\n",
              "      border-right-color: var(--fill-color);\n",
              "      border-top-color: var(--fill-color);\n",
              "    }\n",
              "    60% {\n",
              "      border-color: transparent;\n",
              "      border-right-color: var(--fill-color);\n",
              "    }\n",
              "    80% {\n",
              "      border-color: transparent;\n",
              "      border-right-color: var(--fill-color);\n",
              "      border-bottom-color: var(--fill-color);\n",
              "    }\n",
              "    90% {\n",
              "      border-color: transparent;\n",
              "      border-bottom-color: var(--fill-color);\n",
              "    }\n",
              "  }\n",
              "</style>\n",
              "\n",
              "  <script>\n",
              "    async function quickchart(key) {\n",
              "      const quickchartButtonEl =\n",
              "        document.querySelector('#' + key + ' button');\n",
              "      quickchartButtonEl.disabled = true;  // To prevent multiple clicks.\n",
              "      quickchartButtonEl.classList.add('colab-df-spinner');\n",
              "      try {\n",
              "        const charts = await google.colab.kernel.invokeFunction(\n",
              "            'suggestCharts', [key], {});\n",
              "      } catch (error) {\n",
              "        console.error('Error during call to suggestCharts:', error);\n",
              "      }\n",
              "      quickchartButtonEl.classList.remove('colab-df-spinner');\n",
              "      quickchartButtonEl.classList.add('colab-df-quickchart-complete');\n",
              "    }\n",
              "    (() => {\n",
              "      let quickchartButtonEl =\n",
              "        document.querySelector('#df-ada26ce3-519a-4fd4-90d0-fc06f80839e0 button');\n",
              "      quickchartButtonEl.style.display =\n",
              "        google.colab.kernel.accessAllowed ? 'block' : 'none';\n",
              "    })();\n",
              "  </script>\n",
              "</div>\n",
              "\n",
              "    </div>\n",
              "  </div>\n"
            ],
            "application/vnd.google.colaboratory.intrinsic+json": {
              "type": "dataframe",
              "variable_name": "mydata"
            }
          },
          "metadata": {},
          "execution_count": 34
        }
      ]
    },
    {
      "cell_type": "code",
      "source": [
        "mydata.describe()"
      ],
      "metadata": {
        "colab": {
          "base_uri": "https://localhost:8080/",
          "height": 300
        },
        "id": "nwMW9nPUNV3l",
        "outputId": "e0c281d4-cfff-44ff-a722-4e436f4921aa"
      },
      "execution_count": null,
      "outputs": [
        {
          "output_type": "execute_result",
          "data": {
            "text/plain": [
              "       transaction_id               transaction_date  transaction_qty  \\\n",
              "count   153624.000000                         153624    153624.000000   \n",
              "mean     74739.220682  2023-04-13 06:15:49.351663872         1.432361   \n",
              "min          1.000000            2023-01-01 00:00:00         1.000000   \n",
              "25%      37351.750000            2023-03-02 00:00:00         1.000000   \n",
              "50%      74721.500000            2023-04-22 00:00:00         1.000000   \n",
              "75%     112091.250000            2023-05-29 00:00:00         2.000000   \n",
              "max     149456.000000            2023-06-30 00:00:00         3.000000   \n",
              "std      43152.474111                            NaN         0.537237   \n",
              "\n",
              "            store_id     product_id     unit_price  \n",
              "count  153624.000000  153624.000000  153624.000000  \n",
              "mean        5.341398      47.924530       3.371454  \n",
              "min         3.000000       1.000000       0.800000  \n",
              "25%         3.000000      33.000000       2.500000  \n",
              "50%         5.000000      47.000000       3.000000  \n",
              "75%         8.000000      60.000000       3.750000  \n",
              "max         8.000000      87.000000      45.000000  \n",
              "std         2.074204      17.935054       2.619969  "
            ],
            "text/html": [
              "\n",
              "  <div id=\"df-f87c3033-c0d5-4a34-9ebf-cea13169ac51\" class=\"colab-df-container\">\n",
              "    <div>\n",
              "<style scoped>\n",
              "    .dataframe tbody tr th:only-of-type {\n",
              "        vertical-align: middle;\n",
              "    }\n",
              "\n",
              "    .dataframe tbody tr th {\n",
              "        vertical-align: top;\n",
              "    }\n",
              "\n",
              "    .dataframe thead th {\n",
              "        text-align: right;\n",
              "    }\n",
              "</style>\n",
              "<table border=\"1\" class=\"dataframe\">\n",
              "  <thead>\n",
              "    <tr style=\"text-align: right;\">\n",
              "      <th></th>\n",
              "      <th>transaction_id</th>\n",
              "      <th>transaction_date</th>\n",
              "      <th>transaction_qty</th>\n",
              "      <th>store_id</th>\n",
              "      <th>product_id</th>\n",
              "      <th>unit_price</th>\n",
              "    </tr>\n",
              "  </thead>\n",
              "  <tbody>\n",
              "    <tr>\n",
              "      <th>count</th>\n",
              "      <td>153624.000000</td>\n",
              "      <td>153624</td>\n",
              "      <td>153624.000000</td>\n",
              "      <td>153624.000000</td>\n",
              "      <td>153624.000000</td>\n",
              "      <td>153624.000000</td>\n",
              "    </tr>\n",
              "    <tr>\n",
              "      <th>mean</th>\n",
              "      <td>74739.220682</td>\n",
              "      <td>2023-04-13 06:15:49.351663872</td>\n",
              "      <td>1.432361</td>\n",
              "      <td>5.341398</td>\n",
              "      <td>47.924530</td>\n",
              "      <td>3.371454</td>\n",
              "    </tr>\n",
              "    <tr>\n",
              "      <th>min</th>\n",
              "      <td>1.000000</td>\n",
              "      <td>2023-01-01 00:00:00</td>\n",
              "      <td>1.000000</td>\n",
              "      <td>3.000000</td>\n",
              "      <td>1.000000</td>\n",
              "      <td>0.800000</td>\n",
              "    </tr>\n",
              "    <tr>\n",
              "      <th>25%</th>\n",
              "      <td>37351.750000</td>\n",
              "      <td>2023-03-02 00:00:00</td>\n",
              "      <td>1.000000</td>\n",
              "      <td>3.000000</td>\n",
              "      <td>33.000000</td>\n",
              "      <td>2.500000</td>\n",
              "    </tr>\n",
              "    <tr>\n",
              "      <th>50%</th>\n",
              "      <td>74721.500000</td>\n",
              "      <td>2023-04-22 00:00:00</td>\n",
              "      <td>1.000000</td>\n",
              "      <td>5.000000</td>\n",
              "      <td>47.000000</td>\n",
              "      <td>3.000000</td>\n",
              "    </tr>\n",
              "    <tr>\n",
              "      <th>75%</th>\n",
              "      <td>112091.250000</td>\n",
              "      <td>2023-05-29 00:00:00</td>\n",
              "      <td>2.000000</td>\n",
              "      <td>8.000000</td>\n",
              "      <td>60.000000</td>\n",
              "      <td>3.750000</td>\n",
              "    </tr>\n",
              "    <tr>\n",
              "      <th>max</th>\n",
              "      <td>149456.000000</td>\n",
              "      <td>2023-06-30 00:00:00</td>\n",
              "      <td>3.000000</td>\n",
              "      <td>8.000000</td>\n",
              "      <td>87.000000</td>\n",
              "      <td>45.000000</td>\n",
              "    </tr>\n",
              "    <tr>\n",
              "      <th>std</th>\n",
              "      <td>43152.474111</td>\n",
              "      <td>NaN</td>\n",
              "      <td>0.537237</td>\n",
              "      <td>2.074204</td>\n",
              "      <td>17.935054</td>\n",
              "      <td>2.619969</td>\n",
              "    </tr>\n",
              "  </tbody>\n",
              "</table>\n",
              "</div>\n",
              "    <div class=\"colab-df-buttons\">\n",
              "\n",
              "  <div class=\"colab-df-container\">\n",
              "    <button class=\"colab-df-convert\" onclick=\"convertToInteractive('df-f87c3033-c0d5-4a34-9ebf-cea13169ac51')\"\n",
              "            title=\"Convert this dataframe to an interactive table.\"\n",
              "            style=\"display:none;\">\n",
              "\n",
              "  <svg xmlns=\"http://www.w3.org/2000/svg\" height=\"24px\" viewBox=\"0 -960 960 960\">\n",
              "    <path d=\"M120-120v-720h720v720H120Zm60-500h600v-160H180v160Zm220 220h160v-160H400v160Zm0 220h160v-160H400v160ZM180-400h160v-160H180v160Zm440 0h160v-160H620v160ZM180-180h160v-160H180v160Zm440 0h160v-160H620v160Z\"/>\n",
              "  </svg>\n",
              "    </button>\n",
              "\n",
              "  <style>\n",
              "    .colab-df-container {\n",
              "      display:flex;\n",
              "      gap: 12px;\n",
              "    }\n",
              "\n",
              "    .colab-df-convert {\n",
              "      background-color: #E8F0FE;\n",
              "      border: none;\n",
              "      border-radius: 50%;\n",
              "      cursor: pointer;\n",
              "      display: none;\n",
              "      fill: #1967D2;\n",
              "      height: 32px;\n",
              "      padding: 0 0 0 0;\n",
              "      width: 32px;\n",
              "    }\n",
              "\n",
              "    .colab-df-convert:hover {\n",
              "      background-color: #E2EBFA;\n",
              "      box-shadow: 0px 1px 2px rgba(60, 64, 67, 0.3), 0px 1px 3px 1px rgba(60, 64, 67, 0.15);\n",
              "      fill: #174EA6;\n",
              "    }\n",
              "\n",
              "    .colab-df-buttons div {\n",
              "      margin-bottom: 4px;\n",
              "    }\n",
              "\n",
              "    [theme=dark] .colab-df-convert {\n",
              "      background-color: #3B4455;\n",
              "      fill: #D2E3FC;\n",
              "    }\n",
              "\n",
              "    [theme=dark] .colab-df-convert:hover {\n",
              "      background-color: #434B5C;\n",
              "      box-shadow: 0px 1px 3px 1px rgba(0, 0, 0, 0.15);\n",
              "      filter: drop-shadow(0px 1px 2px rgba(0, 0, 0, 0.3));\n",
              "      fill: #FFFFFF;\n",
              "    }\n",
              "  </style>\n",
              "\n",
              "    <script>\n",
              "      const buttonEl =\n",
              "        document.querySelector('#df-f87c3033-c0d5-4a34-9ebf-cea13169ac51 button.colab-df-convert');\n",
              "      buttonEl.style.display =\n",
              "        google.colab.kernel.accessAllowed ? 'block' : 'none';\n",
              "\n",
              "      async function convertToInteractive(key) {\n",
              "        const element = document.querySelector('#df-f87c3033-c0d5-4a34-9ebf-cea13169ac51');\n",
              "        const dataTable =\n",
              "          await google.colab.kernel.invokeFunction('convertToInteractive',\n",
              "                                                    [key], {});\n",
              "        if (!dataTable) return;\n",
              "\n",
              "        const docLinkHtml = 'Like what you see? Visit the ' +\n",
              "          '<a target=\"_blank\" href=https://colab.research.google.com/notebooks/data_table.ipynb>data table notebook</a>'\n",
              "          + ' to learn more about interactive tables.';\n",
              "        element.innerHTML = '';\n",
              "        dataTable['output_type'] = 'display_data';\n",
              "        await google.colab.output.renderOutput(dataTable, element);\n",
              "        const docLink = document.createElement('div');\n",
              "        docLink.innerHTML = docLinkHtml;\n",
              "        element.appendChild(docLink);\n",
              "      }\n",
              "    </script>\n",
              "  </div>\n",
              "\n",
              "\n",
              "<div id=\"df-b36f67b7-be17-47f7-8220-5f5e7162c923\">\n",
              "  <button class=\"colab-df-quickchart\" onclick=\"quickchart('df-b36f67b7-be17-47f7-8220-5f5e7162c923')\"\n",
              "            title=\"Suggest charts\"\n",
              "            style=\"display:none;\">\n",
              "\n",
              "<svg xmlns=\"http://www.w3.org/2000/svg\" height=\"24px\"viewBox=\"0 0 24 24\"\n",
              "     width=\"24px\">\n",
              "    <g>\n",
              "        <path d=\"M19 3H5c-1.1 0-2 .9-2 2v14c0 1.1.9 2 2 2h14c1.1 0 2-.9 2-2V5c0-1.1-.9-2-2-2zM9 17H7v-7h2v7zm4 0h-2V7h2v10zm4 0h-2v-4h2v4z\"/>\n",
              "    </g>\n",
              "</svg>\n",
              "  </button>\n",
              "\n",
              "<style>\n",
              "  .colab-df-quickchart {\n",
              "      --bg-color: #E8F0FE;\n",
              "      --fill-color: #1967D2;\n",
              "      --hover-bg-color: #E2EBFA;\n",
              "      --hover-fill-color: #174EA6;\n",
              "      --disabled-fill-color: #AAA;\n",
              "      --disabled-bg-color: #DDD;\n",
              "  }\n",
              "\n",
              "  [theme=dark] .colab-df-quickchart {\n",
              "      --bg-color: #3B4455;\n",
              "      --fill-color: #D2E3FC;\n",
              "      --hover-bg-color: #434B5C;\n",
              "      --hover-fill-color: #FFFFFF;\n",
              "      --disabled-bg-color: #3B4455;\n",
              "      --disabled-fill-color: #666;\n",
              "  }\n",
              "\n",
              "  .colab-df-quickchart {\n",
              "    background-color: var(--bg-color);\n",
              "    border: none;\n",
              "    border-radius: 50%;\n",
              "    cursor: pointer;\n",
              "    display: none;\n",
              "    fill: var(--fill-color);\n",
              "    height: 32px;\n",
              "    padding: 0;\n",
              "    width: 32px;\n",
              "  }\n",
              "\n",
              "  .colab-df-quickchart:hover {\n",
              "    background-color: var(--hover-bg-color);\n",
              "    box-shadow: 0 1px 2px rgba(60, 64, 67, 0.3), 0 1px 3px 1px rgba(60, 64, 67, 0.15);\n",
              "    fill: var(--button-hover-fill-color);\n",
              "  }\n",
              "\n",
              "  .colab-df-quickchart-complete:disabled,\n",
              "  .colab-df-quickchart-complete:disabled:hover {\n",
              "    background-color: var(--disabled-bg-color);\n",
              "    fill: var(--disabled-fill-color);\n",
              "    box-shadow: none;\n",
              "  }\n",
              "\n",
              "  .colab-df-spinner {\n",
              "    border: 2px solid var(--fill-color);\n",
              "    border-color: transparent;\n",
              "    border-bottom-color: var(--fill-color);\n",
              "    animation:\n",
              "      spin 1s steps(1) infinite;\n",
              "  }\n",
              "\n",
              "  @keyframes spin {\n",
              "    0% {\n",
              "      border-color: transparent;\n",
              "      border-bottom-color: var(--fill-color);\n",
              "      border-left-color: var(--fill-color);\n",
              "    }\n",
              "    20% {\n",
              "      border-color: transparent;\n",
              "      border-left-color: var(--fill-color);\n",
              "      border-top-color: var(--fill-color);\n",
              "    }\n",
              "    30% {\n",
              "      border-color: transparent;\n",
              "      border-left-color: var(--fill-color);\n",
              "      border-top-color: var(--fill-color);\n",
              "      border-right-color: var(--fill-color);\n",
              "    }\n",
              "    40% {\n",
              "      border-color: transparent;\n",
              "      border-right-color: var(--fill-color);\n",
              "      border-top-color: var(--fill-color);\n",
              "    }\n",
              "    60% {\n",
              "      border-color: transparent;\n",
              "      border-right-color: var(--fill-color);\n",
              "    }\n",
              "    80% {\n",
              "      border-color: transparent;\n",
              "      border-right-color: var(--fill-color);\n",
              "      border-bottom-color: var(--fill-color);\n",
              "    }\n",
              "    90% {\n",
              "      border-color: transparent;\n",
              "      border-bottom-color: var(--fill-color);\n",
              "    }\n",
              "  }\n",
              "</style>\n",
              "\n",
              "  <script>\n",
              "    async function quickchart(key) {\n",
              "      const quickchartButtonEl =\n",
              "        document.querySelector('#' + key + ' button');\n",
              "      quickchartButtonEl.disabled = true;  // To prevent multiple clicks.\n",
              "      quickchartButtonEl.classList.add('colab-df-spinner');\n",
              "      try {\n",
              "        const charts = await google.colab.kernel.invokeFunction(\n",
              "            'suggestCharts', [key], {});\n",
              "      } catch (error) {\n",
              "        console.error('Error during call to suggestCharts:', error);\n",
              "      }\n",
              "      quickchartButtonEl.classList.remove('colab-df-spinner');\n",
              "      quickchartButtonEl.classList.add('colab-df-quickchart-complete');\n",
              "    }\n",
              "    (() => {\n",
              "      let quickchartButtonEl =\n",
              "        document.querySelector('#df-b36f67b7-be17-47f7-8220-5f5e7162c923 button');\n",
              "      quickchartButtonEl.style.display =\n",
              "        google.colab.kernel.accessAllowed ? 'block' : 'none';\n",
              "    })();\n",
              "  </script>\n",
              "</div>\n",
              "\n",
              "    </div>\n",
              "  </div>\n"
            ],
            "application/vnd.google.colaboratory.intrinsic+json": {
              "type": "dataframe",
              "summary": "{\n  \"name\": \"mydata\",\n  \"rows\": 8,\n  \"fields\": [\n    {\n      \"column\": \"transaction_id\",\n      \"properties\": {\n        \"dtype\": \"number\",\n        \"std\": 54645.83443375899,\n        \"min\": 1.0,\n        \"max\": 153624.0,\n        \"num_unique_values\": 8,\n        \"samples\": [\n          74739.22068166433,\n          112091.25,\n          153624.0\n        ],\n        \"semantic_type\": \"\",\n        \"description\": \"\"\n      }\n    },\n    {\n      \"column\": \"transaction_date\",\n      \"properties\": {\n        \"dtype\": \"date\",\n        \"min\": \"1970-01-01 00:00:00.000153624\",\n        \"max\": \"2023-06-30 00:00:00\",\n        \"num_unique_values\": 7,\n        \"samples\": [\n          \"153624\",\n          \"2023-04-13 06:15:49.351663872\",\n          \"2023-05-29 00:00:00\"\n        ],\n        \"semantic_type\": \"\",\n        \"description\": \"\"\n      }\n    },\n    {\n      \"column\": \"transaction_qty\",\n      \"properties\": {\n        \"dtype\": \"number\",\n        \"std\": 54313.78254123527,\n        \"min\": 0.5372366302494693,\n        \"max\": 153624.0,\n        \"num_unique_values\": 6,\n        \"samples\": [\n          153624.0,\n          1.4323608290371297,\n          0.5372366302494693\n        ],\n        \"semantic_type\": \"\",\n        \"description\": \"\"\n      }\n    },\n    {\n      \"column\": \"store_id\",\n      \"properties\": {\n        \"dtype\": \"number\",\n        \"std\": 54312.54787161894,\n        \"min\": 2.074204039944278,\n        \"max\": 153624.0,\n        \"num_unique_values\": 6,\n        \"samples\": [\n          153624.0,\n          5.34139847940426,\n          2.074204039944278\n        ],\n        \"semantic_type\": \"\",\n        \"description\": \"\"\n      }\n    },\n    {\n      \"column\": \"product_id\",\n      \"properties\": {\n        \"dtype\": \"number\",\n        \"std\": 54299.45017487948,\n        \"min\": 1.0,\n        \"max\": 153624.0,\n        \"num_unique_values\": 8,\n        \"samples\": [\n          47.92453002135083,\n          60.0,\n          153624.0\n        ],\n        \"semantic_type\": \"\",\n        \"description\": \"\"\n      }\n    },\n    {\n      \"column\": \"unit_price\",\n      \"properties\": {\n        \"dtype\": \"number\",\n        \"std\": 54311.20504560006,\n        \"min\": 0.8,\n        \"max\": 153624.0,\n        \"num_unique_values\": 8,\n        \"samples\": [\n          3.3714542649586003,\n          3.75,\n          153624.0\n        ],\n        \"semantic_type\": \"\",\n        \"description\": \"\"\n      }\n    }\n  ]\n}"
            }
          },
          "metadata": {},
          "execution_count": 35
        }
      ]
    },
    {
      "cell_type": "markdown",
      "source": [
        "# Modelling"
      ],
      "metadata": {
        "id": "6HDP6vOQNo3e"
      }
    },
    {
      "cell_type": "code",
      "source": [
        "# Agregasi data per store_id\n",
        "store_aggregation = mydata.groupby('store_id').agg(\n",
        "    total_sales=pd.NamedAgg(column='transaction_qty', aggfunc='sum'),\n",
        "    transaction_count=pd.NamedAgg(column='transaction_id', aggfunc='count'),\n",
        "    avg_unit_price=pd.NamedAgg(column='unit_price', aggfunc='mean')\n",
        ").reset_index()\n",
        "\n",
        "# Distribusi kategori produk\n",
        "category_distribution = mydata.groupby(['store_id', 'product_category']).agg(\n",
        "    category_count=pd.NamedAgg(column='transaction_qty', aggfunc='sum')\n",
        ").reset_index()\n",
        "\n",
        "# Pivot kategori untuk clustering\n",
        "category_pivot = category_distribution.pivot(index='store_id',\n",
        "                                              columns='product_category',\n",
        "                                              values='category_count').fillna(0).reset_index()\n",
        "\n",
        "# Gabungkan hasil agregasi\n",
        "aggregated_mydata = pd.merge(store_aggregation, category_pivot, on='store_id', how='left')"
      ],
      "metadata": {
        "id": "HPOgEJyHWlt4"
      },
      "execution_count": null,
      "outputs": []
    },
    {
      "cell_type": "code",
      "source": [
        "from sklearn.preprocessing import StandardScaler\n",
        "\n",
        "# Pilih kolom numerik untuk clustering\n",
        "features = aggregated_mydata.drop(columns=['store_id'])\n",
        "\n",
        "# Standarisasi data\n",
        "scaler = StandardScaler()\n",
        "scaled_features = scaler.fit_transform(features)"
      ],
      "metadata": {
        "id": "hxRzwHPKWxcy"
      },
      "execution_count": null,
      "outputs": []
    },
    {
      "cell_type": "code",
      "source": [
        "from sklearn.cluster import KMeans\n",
        "\n",
        "# Tentukan jumlah cluster (misalnya 3)\n",
        "kmeans = KMeans(n_clusters=3, random_state=42)\n",
        "aggregated_mydata['cluster'] = kmeans.fit_predict(scaled_features)\n",
        "\n",
        "# Lihat hasil clustering\n",
        "print(aggregated_mydata[['store_id', 'cluster']])"
      ],
      "metadata": {
        "colab": {
          "base_uri": "https://localhost:8080/"
        },
        "id": "zKySqGUFW12x",
        "outputId": "cde59637-e474-4e3d-9998-555a3b9f0244"
      },
      "execution_count": null,
      "outputs": [
        {
          "output_type": "stream",
          "name": "stdout",
          "text": [
            "   store_id  cluster\n",
            "0         3        2\n",
            "1         5        0\n",
            "2         8        1\n"
          ]
        }
      ]
    },
    {
      "cell_type": "code",
      "source": [
        "import matplotlib.pyplot as plt\n",
        "\n",
        "# Plot hasil clustering berdasarkan dua fitur\n",
        "plt.scatter(aggregated_mydata['total_sales'],\n",
        "            aggregated_mydata['transaction_count'],\n",
        "            c=aggregated_mydata['cluster'], cmap='viridis')\n",
        "plt.colorbar(label='Cluster')\n",
        "plt.xlabel('Total Sales')\n",
        "plt.ylabel('Transaction Count')\n",
        "plt.title('Cluster Visualization')\n",
        "plt.show()"
      ],
      "metadata": {
        "colab": {
          "base_uri": "https://localhost:8080/",
          "height": 472
        },
        "id": "8fYQzzwqXAFj",
        "outputId": "33b32cbd-2e5b-4cbf-8e24-c07bbd745fdb"
      },
      "execution_count": null,
      "outputs": [
        {
          "output_type": "display_data",
          "data": {
            "text/plain": [
              "<Figure size 640x480 with 2 Axes>"
            ],
            "image/png": "[encoded data removed]"
          },
          "metadata": {}
        }
      ]
    },
    {
      "cell_type": "code",
      "source": [
        "# Check if the 'cluster' column exists in the aggregated_data\n",
        "aggregated_mydata.columns.tolist()"
      ],
      "metadata": {
        "colab": {
          "base_uri": "https://localhost:8080/"
        },
        "id": "0Zz5r67zXXvy",
        "outputId": "20bdd56a-3fd7-4b62-b306-a3dcab53b0c3"
      },
      "execution_count": null,
      "outputs": [
        {
          "output_type": "execute_result",
          "data": {
            "text/plain": [
              "['store_id',\n",
              " 'total_sales',\n",
              " 'transaction_count',\n",
              " 'avg_unit_price',\n",
              " 'Bakery',\n",
              " 'Branded',\n",
              " 'Coffee',\n",
              " 'Coffee beans',\n",
              " 'Drinking Chocolate',\n",
              " 'Flavours',\n",
              " 'Loose Tea',\n",
              " 'Packaged Chocolate',\n",
              " 'Tea',\n",
              " 'cluster']"
            ]
          },
          "metadata": {},
          "execution_count": 40
        }
      ]
    },
    {
      "cell_type": "code",
      "source": [
        "from sklearn.cluster import KMeans\n",
        "from sklearn.preprocessing import StandardScaler\n",
        "\n",
        "# Step 1: Normalize the data for clustering\n",
        "features = aggregated_mydata.drop(columns=['store_id'])  # Exclude non-numeric columns for clustering\n",
        "scaler = StandardScaler()\n",
        "scaled_features = scaler.fit_transform(features)\n",
        "\n",
        "# Step 2: Apply K-Means clustering\n",
        "kmeans = KMeans(n_clusters=3, random_state=42)\n",
        "aggregated_mydata['cluster'] = kmeans.fit_predict(scaled_features)\n",
        "\n",
        "# Verify if the 'cluster' column is now added\n",
        "aggregated_mydata.head()"
      ],
      "metadata": {
        "colab": {
          "base_uri": "https://localhost:8080/",
          "height": 161
        },
        "id": "snEqbjDPYRP7",
        "outputId": "2bd0bc93-792b-4bdb-97b3-82f5b4c1fa9f"
      },
      "execution_count": null,
      "outputs": [
        {
          "output_type": "execute_result",
          "data": {
            "text/plain": [
              "   store_id  total_sales  transaction_count  avg_unit_price  Bakery  Branded  \\\n",
              "0         3      72966.0              52150        3.371814  7554.0    284.0   \n",
              "1         5      73512.0              49225        3.355586  8101.0    358.0   \n",
              "2         8      73567.0              52249        3.386045  7715.0    119.0   \n",
              "\n",
              "    Coffee  Coffee beans  Drinking Chocolate  Flavours  Loose Tea  \\\n",
              "0  31517.0         509.0              6370.0    2232.0      343.0   \n",
              "1  31163.0         538.0              5436.0    4664.0      379.0   \n",
              "2  32111.0         732.0              5673.0    3591.0      490.0   \n",
              "\n",
              "   Packaged Chocolate      Tea  cluster  \n",
              "0               111.0  24046.0        2  \n",
              "1               181.0  22692.0        0  \n",
              "2               194.0  22942.0        1  "
            ],
            "text/html": [
              "\n",
              "  <div id=\"df-0759ccd7-4f52-4047-aa54-6668a5df0aec\" class=\"colab-df-container\">\n",
              "    <div>\n",
              "<style scoped>\n",
              "    .dataframe tbody tr th:only-of-type {\n",
              "        vertical-align: middle;\n",
              "    }\n",
              "\n",
              "    .dataframe tbody tr th {\n",
              "        vertical-align: top;\n",
              "    }\n",
              "\n",
              "    .dataframe thead th {\n",
              "        text-align: right;\n",
              "    }\n",
              "</style>\n",
              "<table border=\"1\" class=\"dataframe\">\n",
              "  <thead>\n",
              "    <tr style=\"text-align: right;\">\n",
              "      <th></th>\n",
              "      <th>store_id</th>\n",
              "      <th>total_sales</th>\n",
              "      <th>transaction_count</th>\n",
              "      <th>avg_unit_price</th>\n",
              "      <th>Bakery</th>\n",
              "      <th>Branded</th>\n",
              "      <th>Coffee</th>\n",
              "      <th>Coffee beans</th>\n",
              "      <th>Drinking Chocolate</th>\n",
              "      <th>Flavours</th>\n",
              "      <th>Loose Tea</th>\n",
              "      <th>Packaged Chocolate</th>\n",
              "      <th>Tea</th>\n",
              "      <th>cluster</th>\n",
              "    </tr>\n",
              "  </thead>\n",
              "  <tbody>\n",
              "    <tr>\n",
              "      <th>0</th>\n",
              "      <td>3</td>\n",
              "      <td>72966.0</td>\n",
              "      <td>52150</td>\n",
              "      <td>3.371814</td>\n",
              "      <td>7554.0</td>\n",
              "      <td>284.0</td>\n",
              "      <td>31517.0</td>\n",
              "      <td>509.0</td>\n",
              "      <td>6370.0</td>\n",
              "      <td>2232.0</td>\n",
              "      <td>343.0</td>\n",
              "      <td>111.0</td>\n",
              "      <td>24046.0</td>\n",
              "      <td>2</td>\n",
              "    </tr>\n",
              "    <tr>\n",
              "      <th>1</th>\n",
              "      <td>5</td>\n",
              "      <td>73512.0</td>\n",
              "      <td>49225</td>\n",
              "      <td>3.355586</td>\n",
              "      <td>8101.0</td>\n",
              "      <td>358.0</td>\n",
              "      <td>31163.0</td>\n",
              "      <td>538.0</td>\n",
              "      <td>5436.0</td>\n",
              "      <td>4664.0</td>\n",
              "      <td>379.0</td>\n",
              "      <td>181.0</td>\n",
              "      <td>22692.0</td>\n",
              "      <td>0</td>\n",
              "    </tr>\n",
              "    <tr>\n",
              "      <th>2</th>\n",
              "      <td>8</td>\n",
              "      <td>73567.0</td>\n",
              "      <td>52249</td>\n",
              "      <td>3.386045</td>\n",
              "      <td>7715.0</td>\n",
              "      <td>119.0</td>\n",
              "      <td>32111.0</td>\n",
              "      <td>732.0</td>\n",
              "      <td>5673.0</td>\n",
              "      <td>3591.0</td>\n",
              "      <td>490.0</td>\n",
              "      <td>194.0</td>\n",
              "      <td>22942.0</td>\n",
              "      <td>1</td>\n",
              "    </tr>\n",
              "  </tbody>\n",
              "</table>\n",
              "</div>\n",
              "    <div class=\"colab-df-buttons\">\n",
              "\n",
              "  <div class=\"colab-df-container\">\n",
              "    <button class=\"colab-df-convert\" onclick=\"convertToInteractive('df-0759ccd7-4f52-4047-aa54-6668a5df0aec')\"\n",
              "            title=\"Convert this dataframe to an interactive table.\"\n",
              "            style=\"display:none;\">\n",
              "\n",
              "  <svg xmlns=\"http://www.w3.org/2000/svg\" height=\"24px\" viewBox=\"0 -960 960 960\">\n",
              "    <path d=\"M120-120v-720h720v720H120Zm60-500h600v-160H180v160Zm220 220h160v-160H400v160Zm0 220h160v-160H400v160ZM180-400h160v-160H180v160Zm440 0h160v-160H620v160ZM180-180h160v-160H180v160Zm440 0h160v-160H620v160Z\"/>\n",
              "  </svg>\n",
              "    </button>\n",
              "\n",
              "  <style>\n",
              "    .colab-df-container {\n",
              "      display:flex;\n",
              "      gap: 12px;\n",
              "    }\n",
              "\n",
              "    .colab-df-convert {\n",
              "      background-color: #E8F0FE;\n",
              "      border: none;\n",
              "      border-radius: 50%;\n",
              "      cursor: pointer;\n",
              "      display: none;\n",
              "      fill: #1967D2;\n",
              "      height: 32px;\n",
              "      padding: 0 0 0 0;\n",
              "      width: 32px;\n",
              "    }\n",
              "\n",
              "    .colab-df-convert:hover {\n",
              "      background-color: #E2EBFA;\n",
              "      box-shadow: 0px 1px 2px rgba(60, 64, 67, 0.3), 0px 1px 3px 1px rgba(60, 64, 67, 0.15);\n",
              "      fill: #174EA6;\n",
              "    }\n",
              "\n",
              "    .colab-df-buttons div {\n",
              "      margin-bottom: 4px;\n",
              "    }\n",
              "\n",
              "    [theme=dark] .colab-df-convert {\n",
              "      background-color: #3B4455;\n",
              "      fill: #D2E3FC;\n",
              "    }\n",
              "\n",
              "    [theme=dark] .colab-df-convert:hover {\n",
              "      background-color: #434B5C;\n",
              "      box-shadow: 0px 1px 3px 1px rgba(0, 0, 0, 0.15);\n",
              "      filter: drop-shadow(0px 1px 2px rgba(0, 0, 0, 0.3));\n",
              "      fill: #FFFFFF;\n",
              "    }\n",
              "  </style>\n",
              "\n",
              "    <script>\n",
              "      const buttonEl =\n",
              "        document.querySelector('#df-0759ccd7-4f52-4047-aa54-6668a5df0aec button.colab-df-convert');\n",
              "      buttonEl.style.display =\n",
              "        google.colab.kernel.accessAllowed ? 'block' : 'none';\n",
              "\n",
              "      async function convertToInteractive(key) {\n",
              "        const element = document.querySelector('#df-0759ccd7-4f52-4047-aa54-6668a5df0aec');\n",
              "        const dataTable =\n",
              "          await google.colab.kernel.invokeFunction('convertToInteractive',\n",
              "                                                    [key], {});\n",
              "        if (!dataTable) return;\n",
              "\n",
              "        const docLinkHtml = 'Like what you see? Visit the ' +\n",
              "          '<a target=\"_blank\" href=https://colab.research.google.com/notebooks/data_table.ipynb>data table notebook</a>'\n",
              "          + ' to learn more about interactive tables.';\n",
              "        element.innerHTML = '';\n",
              "        dataTable['output_type'] = 'display_data';\n",
              "        await google.colab.output.renderOutput(dataTable, element);\n",
              "        const docLink = document.createElement('div');\n",
              "        docLink.innerHTML = docLinkHtml;\n",
              "        element.appendChild(docLink);\n",
              "      }\n",
              "    </script>\n",
              "  </div>\n",
              "\n",
              "\n",
              "<div id=\"df-9641f907-1432-4473-b00f-628129b2cd51\">\n",
              "  <button class=\"colab-df-quickchart\" onclick=\"quickchart('df-9641f907-1432-4473-b00f-628129b2cd51')\"\n",
              "            title=\"Suggest charts\"\n",
              "            style=\"display:none;\">\n",
              "\n",
              "<svg xmlns=\"http://www.w3.org/2000/svg\" height=\"24px\"viewBox=\"0 0 24 24\"\n",
              "     width=\"24px\">\n",
              "    <g>\n",
              "        <path d=\"M19 3H5c-1.1 0-2 .9-2 2v14c0 1.1.9 2 2 2h14c1.1 0 2-.9 2-2V5c0-1.1-.9-2-2-2zM9 17H7v-7h2v7zm4 0h-2V7h2v10zm4 0h-2v-4h2v4z\"/>\n",
              "    </g>\n",
              "</svg>\n",
              "  </button>\n",
              "\n",
              "<style>\n",
              "  .colab-df-quickchart {\n",
              "      --bg-color: #E8F0FE;\n",
              "      --fill-color: #1967D2;\n",
              "      --hover-bg-color: #E2EBFA;\n",
              "      --hover-fill-color: #174EA6;\n",
              "      --disabled-fill-color: #AAA;\n",
              "      --disabled-bg-color: #DDD;\n",
              "  }\n",
              "\n",
              "  [theme=dark] .colab-df-quickchart {\n",
              "      --bg-color: #3B4455;\n",
              "      --fill-color: #D2E3FC;\n",
              "      --hover-bg-color: #434B5C;\n",
              "      --hover-fill-color: #FFFFFF;\n",
              "      --disabled-bg-color: #3B4455;\n",
              "      --disabled-fill-color: #666;\n",
              "  }\n",
              "\n",
              "  .colab-df-quickchart {\n",
              "    background-color: var(--bg-color);\n",
              "    border: none;\n",
              "    border-radius: 50%;\n",
              "    cursor: pointer;\n",
              "    display: none;\n",
              "    fill: var(--fill-color);\n",
              "    height: 32px;\n",
              "    padding: 0;\n",
              "    width: 32px;\n",
              "  }\n",
              "\n",
              "  .colab-df-quickchart:hover {\n",
              "    background-color: var(--hover-bg-color);\n",
              "    box-shadow: 0 1px 2px rgba(60, 64, 67, 0.3), 0 1px 3px 1px rgba(60, 64, 67, 0.15);\n",
              "    fill: var(--button-hover-fill-color);\n",
              "  }\n",
              "\n",
              "  .colab-df-quickchart-complete:disabled,\n",
              "  .colab-df-quickchart-complete:disabled:hover {\n",
              "    background-color: var(--disabled-bg-color);\n",
              "    fill: var(--disabled-fill-color);\n",
              "    box-shadow: none;\n",
              "  }\n",
              "\n",
              "  .colab-df-spinner {\n",
              "    border: 2px solid var(--fill-color);\n",
              "    border-color: transparent;\n",
              "    border-bottom-color: var(--fill-color);\n",
              "    animation:\n",
              "      spin 1s steps(1) infinite;\n",
              "  }\n",
              "\n",
              "  @keyframes spin {\n",
              "    0% {\n",
              "      border-color: transparent;\n",
              "      border-bottom-color: var(--fill-color);\n",
              "      border-left-color: var(--fill-color);\n",
              "    }\n",
              "    20% {\n",
              "      border-color: transparent;\n",
              "      border-left-color: var(--fill-color);\n",
              "      border-top-color: var(--fill-color);\n",
              "    }\n",
              "    30% {\n",
              "      border-color: transparent;\n",
              "      border-left-color: var(--fill-color);\n",
              "      border-top-color: var(--fill-color);\n",
              "      border-right-color: var(--fill-color);\n",
              "    }\n",
              "    40% {\n",
              "      border-color: transparent;\n",
              "      border-right-color: var(--fill-color);\n",
              "      border-top-color: var(--fill-color);\n",
              "    }\n",
              "    60% {\n",
              "      border-color: transparent;\n",
              "      border-right-color: var(--fill-color);\n",
              "    }\n",
              "    80% {\n",
              "      border-color: transparent;\n",
              "      border-right-color: var(--fill-color);\n",
              "      border-bottom-color: var(--fill-color);\n",
              "    }\n",
              "    90% {\n",
              "      border-color: transparent;\n",
              "      border-bottom-color: var(--fill-color);\n",
              "    }\n",
              "  }\n",
              "</style>\n",
              "\n",
              "  <script>\n",
              "    async function quickchart(key) {\n",
              "      const quickchartButtonEl =\n",
              "        document.querySelector('#' + key + ' button');\n",
              "      quickchartButtonEl.disabled = true;  // To prevent multiple clicks.\n",
              "      quickchartButtonEl.classList.add('colab-df-spinner');\n",
              "      try {\n",
              "        const charts = await google.colab.kernel.invokeFunction(\n",
              "            'suggestCharts', [key], {});\n",
              "      } catch (error) {\n",
              "        console.error('Error during call to suggestCharts:', error);\n",
              "      }\n",
              "      quickchartButtonEl.classList.remove('colab-df-spinner');\n",
              "      quickchartButtonEl.classList.add('colab-df-quickchart-complete');\n",
              "    }\n",
              "    (() => {\n",
              "      let quickchartButtonEl =\n",
              "        document.querySelector('#df-9641f907-1432-4473-b00f-628129b2cd51 button');\n",
              "      quickchartButtonEl.style.display =\n",
              "        google.colab.kernel.accessAllowed ? 'block' : 'none';\n",
              "    })();\n",
              "  </script>\n",
              "</div>\n",
              "\n",
              "    </div>\n",
              "  </div>\n"
            ],
            "application/vnd.google.colaboratory.intrinsic+json": {
              "type": "dataframe",
              "variable_name": "aggregated_mydata",
              "summary": "{\n  \"name\": \"aggregated_mydata\",\n  \"rows\": 3,\n  \"fields\": [\n    {\n      \"column\": \"store_id\",\n      \"properties\": {\n        \"dtype\": \"number\",\n        \"std\": 2,\n        \"min\": 3,\n        \"max\": 8,\n        \"num_unique_values\": 3,\n        \"samples\": [\n          3,\n          5,\n          8\n        ],\n        \"semantic_type\": \"\",\n        \"description\": \"\"\n      }\n    },\n    {\n      \"column\": \"total_sales\",\n      \"properties\": {\n        \"dtype\": \"number\",\n        \"std\": 332.2504075743675,\n        \"min\": 72966.0,\n        \"max\": 73567.0,\n        \"num_unique_values\": 3,\n        \"samples\": [\n          72966.0,\n          73512.0,\n          73567.0\n        ],\n        \"semantic_type\": \"\",\n        \"description\": \"\"\n      }\n    },\n    {\n      \"column\": \"transaction_count\",\n      \"properties\": {\n        \"dtype\": \"number\",\n        \"std\": 1718,\n        \"min\": 49225,\n        \"max\": 52249,\n        \"num_unique_values\": 3,\n        \"samples\": [\n          52150,\n          49225,\n          52249\n        ],\n        \"semantic_type\": \"\",\n        \"description\": \"\"\n      }\n    },\n    {\n      \"column\": \"avg_unit_price\",\n      \"properties\": {\n        \"dtype\": \"number\",\n        \"std\": 0.015240639289723839,\n        \"min\": 3.3555859827323515,\n        \"max\": 3.3860454745545367,\n        \"num_unique_values\": 3,\n        \"samples\": [\n          3.371813614573346,\n          3.3555859827323515,\n          3.3860454745545367\n        ],\n        \"semantic_type\": \"\",\n        \"description\": \"\"\n      }\n    },\n    {\n      \"column\": \"Bakery\",\n      \"properties\": {\n        \"dtype\": \"number\",\n        \"std\": 281.1067412923425,\n        \"min\": 7554.0,\n        \"max\": 8101.0,\n        \"num_unique_values\": 3,\n        \"samples\": [\n          7554.0,\n          8101.0,\n          7715.0\n        ],\n        \"semantic_type\": \"\",\n        \"description\": \"\"\n      }\n    },\n    {\n      \"column\": \"Branded\",\n      \"properties\": {\n        \"dtype\": \"number\",\n        \"std\": 122.35331353638664,\n        \"min\": 119.0,\n        \"max\": 358.0,\n        \"num_unique_values\": 3,\n        \"samples\": [\n          284.0,\n          358.0,\n          119.0\n        ],\n        \"semantic_type\": \"\",\n        \"description\": \"\"\n      }\n    },\n    {\n      \"column\": \"Coffee\",\n      \"properties\": {\n        \"dtype\": \"number\",\n        \"std\": 479.03653305358665,\n        \"min\": 31163.0,\n        \"max\": 32111.0,\n        \"num_unique_values\": 3,\n        \"samples\": [\n          31517.0,\n          31163.0,\n          32111.0\n        ],\n        \"semantic_type\": \"\",\n        \"description\": \"\"\n      }\n    },\n    {\n      \"column\": \"Coffee beans\",\n      \"properties\": {\n        \"dtype\": \"number\",\n        \"std\": 121.24768039018313,\n        \"min\": 509.0,\n        \"max\": 732.0,\n        \"num_unique_values\": 3,\n        \"samples\": [\n          509.0,\n          538.0,\n          732.0\n        ],\n        \"semantic_type\": \"\",\n        \"description\": \"\"\n      }\n    },\n    {\n      \"column\": \"Drinking Chocolate\",\n      \"properties\": {\n        \"dtype\": \"number\",\n        \"std\": 485.51244405610583,\n        \"min\": 5436.0,\n        \"max\": 6370.0,\n        \"num_unique_values\": 3,\n        \"samples\": [\n          6370.0,\n          5436.0,\n          5673.0\n        ],\n        \"semantic_type\": \"\",\n        \"description\": \"\"\n      }\n    },\n    {\n      \"column\": \"Flavours\",\n      \"properties\": {\n        \"dtype\": \"number\",\n        \"std\": 1218.799546001447,\n        \"min\": 2232.0,\n        \"max\": 4664.0,\n        \"num_unique_values\": 3,\n        \"samples\": [\n          2232.0,\n          4664.0,\n          3591.0\n        ],\n        \"semantic_type\": \"\",\n        \"description\": \"\"\n      }\n    },\n    {\n      \"column\": \"Loose Tea\",\n      \"properties\": {\n        \"dtype\": \"number\",\n        \"std\": 76.62245101796209,\n        \"min\": 343.0,\n        \"max\": 490.0,\n        \"num_unique_values\": 3,\n        \"samples\": [\n          343.0,\n          379.0,\n          490.0\n        ],\n        \"semantic_type\": \"\",\n        \"description\": \"\"\n      }\n    },\n    {\n      \"column\": \"Packaged Chocolate\",\n      \"properties\": {\n        \"dtype\": \"number\",\n        \"std\": 44.64302857109943,\n        \"min\": 111.0,\n        \"max\": 194.0,\n        \"num_unique_values\": 3,\n        \"samples\": [\n          111.0,\n          181.0,\n          194.0\n        ],\n        \"semantic_type\": \"\",\n        \"description\": \"\"\n      }\n    },\n    {\n      \"column\": \"Tea\",\n      \"properties\": {\n        \"dtype\": \"number\",\n        \"std\": 720.489648317957,\n        \"min\": 22692.0,\n        \"max\": 24046.0,\n        \"num_unique_values\": 3,\n        \"samples\": [\n          24046.0,\n          22692.0,\n          22942.0\n        ],\n        \"semantic_type\": \"\",\n        \"description\": \"\"\n      }\n    },\n    {\n      \"column\": \"cluster\",\n      \"properties\": {\n        \"dtype\": \"int32\",\n        \"num_unique_values\": 3,\n        \"samples\": [\n          2,\n          0,\n          1\n        ],\n        \"semantic_type\": \"\",\n        \"description\": \"\"\n      }\n    }\n  ]\n}"
            }
          },
          "metadata": {},
          "execution_count": 41
        }
      ]
    },
    {
      "cell_type": "code",
      "source": [
        "# Import libraries\n",
        "import matplotlib.pyplot as plt\n",
        "import seaborn as sns\n",
        "\n",
        "# Set seaborn style\n",
        "sns.set(style=\"whitegrid\")\n",
        "\n",
        "cluster_analysis = aggregated_mydata\n",
        "\n",
        "# Plot 1: Average metrics per cluster\n",
        "plt.figure(figsize=(12, 6))\n",
        "# Pass the melted DataFrame directly to 'data'\n",
        "sns.barplot(data=cluster_analysis.melt(id_vars='cluster', var_name='Metric', value_name='Value'),\n",
        "            x='cluster', y='Value', hue='Metric', palette='viridis')\n",
        "plt.title('Metrik Rata-rata per Klaster', fontsize=16)\n",
        "plt.xlabel('Cluster', fontsize=14)\n",
        "plt.ylabel('Average Value', fontsize=14)\n",
        "plt.legend(title='Metric', fontsize=12)\n",
        "plt.show()"
      ],
      "metadata": {
        "colab": {
          "base_uri": "https://localhost:8080/",
          "height": 576
        },
        "id": "QSpKhqknZCzN",
        "outputId": "92f4f876-e376-4aff-d5a6-991ed919dc0b"
      },
      "execution_count": null,
      "outputs": [
        {
          "output_type": "display_data",
          "data": {
            "text/plain": [
              "<Figure size 1200x600 with 1 Axes>"
            ],
            "image/png": "[encoded data removed]"
          },
          "metadata": {}
        }
      ]
    },
    {
      "cell_type": "code",
      "source": [
        "# Import libraries\n",
        "import matplotlib.pyplot as plt\n",
        "import seaborn as sns\n",
        "import pandas as pd  # Make sure pandas is imported\n",
        "\n",
        "# Set seaborn style\n",
        "sns.set(style=\"whitegrid\")\n",
        "\n",
        "cluster_analysis = aggregated_mydata\n",
        "\n",
        "# Get the actual product category columns present in your DataFrame\n",
        "product_category_cols = [col for col in aggregated_mydata.columns if col in ['Coffee', 'Tea', 'Bakery', 'Pastry', 'Sandwich', 'Juice', 'Smoothie']]\n",
        "\n",
        "# Assuming you want to analyze the category distribution within clusters:\n",
        "category_by_cluster = aggregated_mydata.groupby('cluster')[product_category_cols].sum().reset_index()\n",
        "\n",
        "# Find the dominant category for each cluster based on total sales\n",
        "category_by_cluster['dominant_category'] = category_by_cluster[product_category_cols].idxmax(axis=1)\n",
        "\n",
        "# Plot 2: Dominant product categories per cluster\n",
        "category_by_cluster_no_dom = category_by_cluster.drop(columns=['dominant_category'])\n",
        "category_by_cluster_no_dom.plot(kind='bar', stacked=True, figsize=(14, 7), colormap='tab20')\n",
        "plt.title('Distribution of Product Categories by Cluster', fontsize=16)\n",
        "plt.xlabel('Cluster', fontsize=14)\n",
        "plt.ylabel('Total Sales', fontsize=14)\n",
        "plt.legend(title='Product Category', fontsize=12, bbox_to_anchor=(1.05, 1), loc='upper left')\n",
        "plt.tight_layout()\n",
        "plt.show()"
      ],
      "metadata": {
        "colab": {
          "base_uri": "https://localhost:8080/",
          "height": 652
        },
        "id": "vKJGuZRobjXQ",
        "outputId": "3beb6770-600b-4cae-d1f1-4775ba0c3864"
      },
      "execution_count": null,
      "outputs": [
        {
          "output_type": "display_data",
          "data": {
            "text/plain": [
              "<Figure size 1400x700 with 1 Axes>"
            ],
            "image/png": "[encoded data removed]"
          },
          "metadata": {}
        }
      ]
    },
    {
      "cell_type": "code",
      "source": [
        "mydata.head()"
      ],
      "metadata": {
        "colab": {
          "base_uri": "https://localhost:8080/",
          "height": 313
        },
        "id": "CTdGc9k8dsan",
        "outputId": "5781af95-9be4-462b-950f-38e689e0a39e"
      },
      "execution_count": null,
      "outputs": [
        {
          "output_type": "execute_result",
          "data": {
            "text/plain": [
              "   transaction_id transaction_date transaction_time  transaction_qty  \\\n",
              "0               1       2023-01-01         07:06:11              1.0   \n",
              "1               2       2023-01-01         07:08:56              2.0   \n",
              "2               3       2023-01-01         07:14:04              2.0   \n",
              "3               4       2023-01-01         07:20:24              1.0   \n",
              "4               5       2023-01-01         07:22:41              2.0   \n",
              "\n",
              "   store_id   store_location  product_id  unit_price    product_category  \\\n",
              "0         5  Lower Manhattan          32         3.0              Coffee   \n",
              "1         5  Lower Manhattan          57         3.1                 Tea   \n",
              "2         5  Lower Manhattan          59         4.5  Drinking Chocolate   \n",
              "3         5  Lower Manhattan          22         2.0              Coffee   \n",
              "4         5  Lower Manhattan          57         3.1                 Tea   \n",
              "\n",
              "            product_type               product_detail  \n",
              "0  Gourmet brewed coffee                  Ethiopia Rg  \n",
              "1        Brewed Chai tea     Spicy Eye Opener Chai Lg  \n",
              "2          Hot chocolate            Dark chocolate Lg  \n",
              "3            Drip coffee  Our Old Time Diner Blend Sm  \n",
              "4        Brewed Chai tea     Spicy Eye Opener Chai Lg  "
            ],
            "text/html": [
              "\n",
              "  <div id=\"df-05527e1d-f69f-4d1b-bf8f-3956c15b956e\" class=\"colab-df-container\">\n",
              "    <div>\n",
              "<style scoped>\n",
              "    .dataframe tbody tr th:only-of-type {\n",
              "        vertical-align: middle;\n",
              "    }\n",
              "\n",
              "    .dataframe tbody tr th {\n",
              "        vertical-align: top;\n",
              "    }\n",
              "\n",
              "    .dataframe thead th {\n",
              "        text-align: right;\n",
              "    }\n",
              "</style>\n",
              "<table border=\"1\" class=\"dataframe\">\n",
              "  <thead>\n",
              "    <tr style=\"text-align: right;\">\n",
              "      <th></th>\n",
              "      <th>transaction_id</th>\n",
              "      <th>transaction_date</th>\n",
              "      <th>transaction_time</th>\n",
              "      <th>transaction_qty</th>\n",
              "      <th>store_id</th>\n",
              "      <th>store_location</th>\n",
              "      <th>product_id</th>\n",
              "      <th>unit_price</th>\n",
              "      <th>product_category</th>\n",
              "      <th>product_type</th>\n",
              "      <th>product_detail</th>\n",
              "    </tr>\n",
              "  </thead>\n",
              "  <tbody>\n",
              "    <tr>\n",
              "      <th>0</th>\n",
              "      <td>1</td>\n",
              "      <td>2023-01-01</td>\n",
              "      <td>07:06:11</td>\n",
              "      <td>1.0</td>\n",
              "      <td>5</td>\n",
              "      <td>Lower Manhattan</td>\n",
              "      <td>32</td>\n",
              "      <td>3.0</td>\n",
              "      <td>Coffee</td>\n",
              "      <td>Gourmet brewed coffee</td>\n",
              "      <td>Ethiopia Rg</td>\n",
              "    </tr>\n",
              "    <tr>\n",
              "      <th>1</th>\n",
              "      <td>2</td>\n",
              "      <td>2023-01-01</td>\n",
              "      <td>07:08:56</td>\n",
              "      <td>2.0</td>\n",
              "      <td>5</td>\n",
              "      <td>Lower Manhattan</td>\n",
              "      <td>57</td>\n",
              "      <td>3.1</td>\n",
              "      <td>Tea</td>\n",
              "      <td>Brewed Chai tea</td>\n",
              "      <td>Spicy Eye Opener Chai Lg</td>\n",
              "    </tr>\n",
              "    <tr>\n",
              "      <th>2</th>\n",
              "      <td>3</td>\n",
              "      <td>2023-01-01</td>\n",
              "      <td>07:14:04</td>\n",
              "      <td>2.0</td>\n",
              "      <td>5</td>\n",
              "      <td>Lower Manhattan</td>\n",
              "      <td>59</td>\n",
              "      <td>4.5</td>\n",
              "      <td>Drinking Chocolate</td>\n",
              "      <td>Hot chocolate</td>\n",
              "      <td>Dark chocolate Lg</td>\n",
              "    </tr>\n",
              "    <tr>\n",
              "      <th>3</th>\n",
              "      <td>4</td>\n",
              "      <td>2023-01-01</td>\n",
              "      <td>07:20:24</td>\n",
              "      <td>1.0</td>\n",
              "      <td>5</td>\n",
              "      <td>Lower Manhattan</td>\n",
              "      <td>22</td>\n",
              "      <td>2.0</td>\n",
              "      <td>Coffee</td>\n",
              "      <td>Drip coffee</td>\n",
              "      <td>Our Old Time Diner Blend Sm</td>\n",
              "    </tr>\n",
              "    <tr>\n",
              "      <th>4</th>\n",
              "      <td>5</td>\n",
              "      <td>2023-01-01</td>\n",
              "      <td>07:22:41</td>\n",
              "      <td>2.0</td>\n",
              "      <td>5</td>\n",
              "      <td>Lower Manhattan</td>\n",
              "      <td>57</td>\n",
              "      <td>3.1</td>\n",
              "      <td>Tea</td>\n",
              "      <td>Brewed Chai tea</td>\n",
              "      <td>Spicy Eye Opener Chai Lg</td>\n",
              "    </tr>\n",
              "  </tbody>\n",
              "</table>\n",
              "</div>\n",
              "    <div class=\"colab-df-buttons\">\n",
              "\n",
              "  <div class=\"colab-df-container\">\n",
              "    <button class=\"colab-df-convert\" onclick=\"convertToInteractive('df-05527e1d-f69f-4d1b-bf8f-3956c15b956e')\"\n",
              "            title=\"Convert this dataframe to an interactive table.\"\n",
              "            style=\"display:none;\">\n",
              "\n",
              "  <svg xmlns=\"http://www.w3.org/2000/svg\" height=\"24px\" viewBox=\"0 -960 960 960\">\n",
              "    <path d=\"M120-120v-720h720v720H120Zm60-500h600v-160H180v160Zm220 220h160v-160H400v160Zm0 220h160v-160H400v160ZM180-400h160v-160H180v160Zm440 0h160v-160H620v160ZM180-180h160v-160H180v160Zm440 0h160v-160H620v160Z\"/>\n",
              "  </svg>\n",
              "    </button>\n",
              "\n",
              "  <style>\n",
              "    .colab-df-container {\n",
              "      display:flex;\n",
              "      gap: 12px;\n",
              "    }\n",
              "\n",
              "    .colab-df-convert {\n",
              "      background-color: #E8F0FE;\n",
              "      border: none;\n",
              "      border-radius: 50%;\n",
              "      cursor: pointer;\n",
              "      display: none;\n",
              "      fill: #1967D2;\n",
              "      height: 32px;\n",
              "      padding: 0 0 0 0;\n",
              "      width: 32px;\n",
              "    }\n",
              "\n",
              "    .colab-df-convert:hover {\n",
              "      background-color: #E2EBFA;\n",
              "      box-shadow: 0px 1px 2px rgba(60, 64, 67, 0.3), 0px 1px 3px 1px rgba(60, 64, 67, 0.15);\n",
              "      fill: #174EA6;\n",
              "    }\n",
              "\n",
              "    .colab-df-buttons div {\n",
              "      margin-bottom: 4px;\n",
              "    }\n",
              "\n",
              "    [theme=dark] .colab-df-convert {\n",
              "      background-color: #3B4455;\n",
              "      fill: #D2E3FC;\n",
              "    }\n",
              "\n",
              "    [theme=dark] .colab-df-convert:hover {\n",
              "      background-color: #434B5C;\n",
              "      box-shadow: 0px 1px 3px 1px rgba(0, 0, 0, 0.15);\n",
              "      filter: drop-shadow(0px 1px 2px rgba(0, 0, 0, 0.3));\n",
              "      fill: #FFFFFF;\n",
              "    }\n",
              "  </style>\n",
              "\n",
              "    <script>\n",
              "      const buttonEl =\n",
              "        document.querySelector('#df-05527e1d-f69f-4d1b-bf8f-3956c15b956e button.colab-df-convert');\n",
              "      buttonEl.style.display =\n",
              "        google.colab.kernel.accessAllowed ? 'block' : 'none';\n",
              "\n",
              "      async function convertToInteractive(key) {\n",
              "        const element = document.querySelector('#df-05527e1d-f69f-4d1b-bf8f-3956c15b956e');\n",
              "        const dataTable =\n",
              "          await google.colab.kernel.invokeFunction('convertToInteractive',\n",
              "                                                    [key], {});\n",
              "        if (!dataTable) return;\n",
              "\n",
              "        const docLinkHtml = 'Like what you see? Visit the ' +\n",
              "          '<a target=\"_blank\" href=https://colab.research.google.com/notebooks/data_table.ipynb>data table notebook</a>'\n",
              "          + ' to learn more about interactive tables.';\n",
              "        element.innerHTML = '';\n",
              "        dataTable['output_type'] = 'display_data';\n",
              "        await google.colab.output.renderOutput(dataTable, element);\n",
              "        const docLink = document.createElement('div');\n",
              "        docLink.innerHTML = docLinkHtml;\n",
              "        element.appendChild(docLink);\n",
              "      }\n",
              "    </script>\n",
              "  </div>\n",
              "\n",
              "\n",
              "<div id=\"df-008a0fd6-ef51-4a50-9bf7-550ef8daa9bc\">\n",
              "  <button class=\"colab-df-quickchart\" onclick=\"quickchart('df-008a0fd6-ef51-4a50-9bf7-550ef8daa9bc')\"\n",
              "            title=\"Suggest charts\"\n",
              "            style=\"display:none;\">\n",
              "\n",
              "<svg xmlns=\"http://www.w3.org/2000/svg\" height=\"24px\"viewBox=\"0 0 24 24\"\n",
              "     width=\"24px\">\n",
              "    <g>\n",
              "        <path d=\"M19 3H5c-1.1 0-2 .9-2 2v14c0 1.1.9 2 2 2h14c1.1 0 2-.9 2-2V5c0-1.1-.9-2-2-2zM9 17H7v-7h2v7zm4 0h-2V7h2v10zm4 0h-2v-4h2v4z\"/>\n",
              "    </g>\n",
              "</svg>\n",
              "  </button>\n",
              "\n",
              "<style>\n",
              "  .colab-df-quickchart {\n",
              "      --bg-color: #E8F0FE;\n",
              "      --fill-color: #1967D2;\n",
              "      --hover-bg-color: #E2EBFA;\n",
              "      --hover-fill-color: #174EA6;\n",
              "      --disabled-fill-color: #AAA;\n",
              "      --disabled-bg-color: #DDD;\n",
              "  }\n",
              "\n",
              "  [theme=dark] .colab-df-quickchart {\n",
              "      --bg-color: #3B4455;\n",
              "      --fill-color: #D2E3FC;\n",
              "      --hover-bg-color: #434B5C;\n",
              "      --hover-fill-color: #FFFFFF;\n",
              "      --disabled-bg-color: #3B4455;\n",
              "      --disabled-fill-color: #666;\n",
              "  }\n",
              "\n",
              "  .colab-df-quickchart {\n",
              "    background-color: var(--bg-color);\n",
              "    border: none;\n",
              "    border-radius: 50%;\n",
              "    cursor: pointer;\n",
              "    display: none;\n",
              "    fill: var(--fill-color);\n",
              "    height: 32px;\n",
              "    padding: 0;\n",
              "    width: 32px;\n",
              "  }\n",
              "\n",
              "  .colab-df-quickchart:hover {\n",
              "    background-color: var(--hover-bg-color);\n",
              "    box-shadow: 0 1px 2px rgba(60, 64, 67, 0.3), 0 1px 3px 1px rgba(60, 64, 67, 0.15);\n",
              "    fill: var(--button-hover-fill-color);\n",
              "  }\n",
              "\n",
              "  .colab-df-quickchart-complete:disabled,\n",
              "  .colab-df-quickchart-complete:disabled:hover {\n",
              "    background-color: var(--disabled-bg-color);\n",
              "    fill: var(--disabled-fill-color);\n",
              "    box-shadow: none;\n",
              "  }\n",
              "\n",
              "  .colab-df-spinner {\n",
              "    border: 2px solid var(--fill-color);\n",
              "    border-color: transparent;\n",
              "    border-bottom-color: var(--fill-color);\n",
              "    animation:\n",
              "      spin 1s steps(1) infinite;\n",
              "  }\n",
              "\n",
              "  @keyframes spin {\n",
              "    0% {\n",
              "      border-color: transparent;\n",
              "      border-bottom-color: var(--fill-color);\n",
              "      border-left-color: var(--fill-color);\n",
              "    }\n",
              "    20% {\n",
              "      border-color: transparent;\n",
              "      border-left-color: var(--fill-color);\n",
              "      border-top-color: var(--fill-color);\n",
              "    }\n",
              "    30% {\n",
              "      border-color: transparent;\n",
              "      border-left-color: var(--fill-color);\n",
              "      border-top-color: var(--fill-color);\n",
              "      border-right-color: var(--fill-color);\n",
              "    }\n",
              "    40% {\n",
              "      border-color: transparent;\n",
              "      border-right-color: var(--fill-color);\n",
              "      border-top-color: var(--fill-color);\n",
              "    }\n",
              "    60% {\n",
              "      border-color: transparent;\n",
              "      border-right-color: var(--fill-color);\n",
              "    }\n",
              "    80% {\n",
              "      border-color: transparent;\n",
              "      border-right-color: var(--fill-color);\n",
              "      border-bottom-color: var(--fill-color);\n",
              "    }\n",
              "    90% {\n",
              "      border-color: transparent;\n",
              "      border-bottom-color: var(--fill-color);\n",
              "    }\n",
              "  }\n",
              "</style>\n",
              "\n",
              "  <script>\n",
              "    async function quickchart(key) {\n",
              "      const quickchartButtonEl =\n",
              "        document.querySelector('#' + key + ' button');\n",
              "      quickchartButtonEl.disabled = true;  // To prevent multiple clicks.\n",
              "      quickchartButtonEl.classList.add('colab-df-spinner');\n",
              "      try {\n",
              "        const charts = await google.colab.kernel.invokeFunction(\n",
              "            'suggestCharts', [key], {});\n",
              "      } catch (error) {\n",
              "        console.error('Error during call to suggestCharts:', error);\n",
              "      }\n",
              "      quickchartButtonEl.classList.remove('colab-df-spinner');\n",
              "      quickchartButtonEl.classList.add('colab-df-quickchart-complete');\n",
              "    }\n",
              "    (() => {\n",
              "      let quickchartButtonEl =\n",
              "        document.querySelector('#df-008a0fd6-ef51-4a50-9bf7-550ef8daa9bc button');\n",
              "      quickchartButtonEl.style.display =\n",
              "        google.colab.kernel.accessAllowed ? 'block' : 'none';\n",
              "    })();\n",
              "  </script>\n",
              "</div>\n",
              "\n",
              "    </div>\n",
              "  </div>\n"
            ],
            "application/vnd.google.colaboratory.intrinsic+json": {
              "type": "dataframe",
              "variable_name": "mydata"
            }
          },
          "metadata": {},
          "execution_count": 44
        }
      ]
    },
    {
      "cell_type": "code",
      "source": [
        "import numpy as np\n",
        "\n",
        "# Cek jumlah cluster unik\n",
        "unique_clusters = np.unique(kmeans.labels_)\n",
        "print(f\"Unique clusters: {unique_clusters}\")"
      ],
      "metadata": {
        "colab": {
          "base_uri": "https://localhost:8080/"
        },
        "id": "Ny5jiessiPb-",
        "outputId": "fd4fc6b0-a4e1-4757-c206-d469a936c0e8"
      },
      "execution_count": null,
      "outputs": [
        {
          "output_type": "stream",
          "name": "stdout",
          "text": [
            "Unique clusters: [0 1 2]\n"
          ]
        }
      ]
    },
    {
      "cell_type": "markdown",
      "source": [
        "# Evaluation"
      ],
      "metadata": {
        "id": "yQR4_aG7PZUm"
      }
    },
    {
      "cell_type": "markdown",
      "source": [
        "## Menggunakan Silhouette Score"
      ],
      "metadata": {
        "id": "g6-rzK0cPksT"
      }
    },
    {
      "cell_type": "code",
      "source": [
        "from sklearn.preprocessing import StandardScaler\n",
        "from sklearn.cluster import KMeans\n",
        "from sklearn.metrics import silhouette_score\n",
        "\n",
        "# Data yang digunakan (tanpa store_id dan cluster)\n",
        "data_features = aggregated_mydata.drop(columns=['store_id', 'cluster'], errors='ignore')\n",
        "\n",
        "# Standarisasi data\n",
        "scaler = StandardScaler()\n",
        "data_scaled = scaler.fit_transform(data_features)\n",
        "\n",
        "# KMeans Clustering with adjusted number of clusters\n",
        "kmeans = KMeans(n_clusters=2, random_state=42) # Reduced clusters to 2\n",
        "kmeans.fit(data_scaled)\n",
        "\n",
        "# Silhouette Score\n",
        "silhouette_avg = silhouette_score(data_scaled, kmeans.labels_)\n",
        "print(f\"Silhouette Score: {silhouette_avg:.3f}\")"
      ],
      "metadata": {
        "colab": {
          "base_uri": "https://localhost:8080/"
        },
        "id": "8XHRgHAEhEty",
        "outputId": "da070805-9697-417c-ba14-67e51446c60c"
      },
      "execution_count": null,
      "outputs": [
        {
          "output_type": "stream",
          "name": "stdout",
          "text": [
            "Silhouette Score: -0.001\n"
          ]
        }
      ]
    },
    {
      "cell_type": "markdown",
      "source": [
        "## Menggunakan PCA Visualization of Clusters"
      ],
      "metadata": {
        "id": "IDZ0VlOqPsl2"
      }
    },
    {
      "cell_type": "code",
      "source": [
        "import matplotlib.pyplot as plt\n",
        "from sklearn.decomposition import PCA\n",
        "\n",
        "# Reduksi data ke 2 dimensi\n",
        "pca = PCA(n_components=2)\n",
        "data_pca = pca.fit_transform(data_scaled)\n",
        "\n",
        "# Plot hasil clustering\n",
        "plt.figure(figsize=(8, 6))\n",
        "for cluster in range(kmeans.n_clusters):\n",
        "    plt.scatter(\n",
        "        data_pca[kmeans.labels_ == cluster, 0],\n",
        "        data_pca[kmeans.labels_ == cluster, 1],\n",
        "        label=f\"Cluster {cluster}\"\n",
        "    )\n",
        "\n",
        "plt.title(\"PCA Visualization of Clusters\")\n",
        "plt.xlabel(\"PCA Component 1\")\n",
        "plt.ylabel(\"PCA Component 2\")\n",
        "plt.legend()\n",
        "plt.show()"
      ],
      "metadata": {
        "colab": {
          "base_uri": "https://localhost:8080/",
          "height": 573
        },
        "id": "FQiQwOCHhGWY",
        "outputId": "ef5426a6-b2aa-40fa-af80-06d830be64fe"
      },
      "execution_count": null,
      "outputs": [
        {
          "output_type": "display_data",
          "data": {
            "text/plain": [
              "<Figure size 800x600 with 1 Axes>"
            ],
            "image/png": "[encoded data removed]"
          },
          "metadata": {}
        }
      ]
    },
    {
      "cell_type": "markdown",
      "source": [
        "## Menggunakan Visualisasi Elbow Method"
      ],
      "metadata": {
        "id": "nQk7XlvsPxfY"
      }
    },
    {
      "cell_type": "code",
      "source": [
        "print(f\"Inertia (SSE): {kmeans.inertia_:.3f}\")"
      ],
      "metadata": {
        "colab": {
          "base_uri": "https://localhost:8080/"
        },
        "id": "9Ft4HTk3jVFU",
        "outputId": "bd5e71ec-43bf-43f6-e92c-11793e0ac8d3"
      },
      "execution_count": null,
      "outputs": [
        {
          "output_type": "stream",
          "name": "stdout",
          "text": [
            "Inertia (SSE): 18.003\n"
          ]
        }
      ]
    },
    {
      "cell_type": "code",
      "source": [
        "import matplotlib.pyplot as plt\n",
        "from sklearn.cluster import KMeans\n",
        "\n",
        "# Range jumlah cluster yang diuji\n",
        "# Change k_values to a maximum of 3 (number of samples)\n",
        "k_values = range(1, 4)\n",
        "inertia_values = []\n",
        "\n",
        "# Hitung inertia untuk setiap nilai k\n",
        "for k in k_values:\n",
        "    kmeans = KMeans(n_clusters=k, random_state=42)\n",
        "    kmeans.fit(data_scaled)\n",
        "    inertia_values.append(kmeans.inertia_)\n",
        "\n",
        "# Plot Elbow Curve\n",
        "plt.figure(figsize=(8, 6))\n",
        "plt.plot(k_values, inertia_values, marker='o', linestyle='--')\n",
        "plt.xlabel('Number of Clusters (k)')\n",
        "plt.ylabel('Inertia (SSE)')\n",
        "plt.title('Elbow Method for Optimal k')\n",
        "plt.xticks(k_values)\n",
        "plt.grid(True)\n",
        "plt.show()"
      ],
      "metadata": {
        "colab": {
          "base_uri": "https://localhost:8080/",
          "height": 573
        },
        "id": "lGKL93J2jd83",
        "outputId": "56017b03-dc85-44a6-d31e-79843759fb81"
      },
      "execution_count": null,
      "outputs": [
        {
          "output_type": "display_data",
          "data": {
            "text/plain": [
              "<Figure size 800x600 with 1 Axes>"
            ],
            "image/png": "[encoded data removed]"
          },
          "metadata": {}
        }
      ]
    },
    {
      "cell_type": "markdown",
      "source": [
        "## Menggunakan Davies-Bouldin Index"
      ],
      "metadata": {
        "id": "_BHF4beHP82h"
      }
    },
    {
      "cell_type": "code",
      "source": [
        "from sklearn.preprocessing import StandardScaler\n",
        "from sklearn.cluster import KMeans\n",
        "from sklearn.metrics import silhouette_score, davies_bouldin_score\n",
        "\n",
        "# Data yang digunakan (tanpa store_id dan cluster)\n",
        "data_features = aggregated_mydata.drop(columns=['store_id', 'cluster'], errors='ignore')\n",
        "\n",
        "# Standarisasi data\n",
        "scaler = StandardScaler()\n",
        "data_scaled = scaler.fit_transform(data_features)\n",
        "\n",
        "# KMeans Clustering with adjusted number of clusters\n",
        "kmeans = KMeans(n_clusters=2, random_state=42) # Reduced clusters to 2\n",
        "kmeans.fit(data_scaled)\n",
        "\n",
        "# Menghitung Davies-Bouldin Index\n",
        "# Use the same kmeans object with n_clusters=2\n",
        "db_index = davies_bouldin_score(data_scaled, kmeans.labels_)\n",
        "print(f\"Davies-Bouldin Index: {db_index:.3f}\")"
      ],
      "metadata": {
        "colab": {
          "base_uri": "https://localhost:8080/"
        },
        "id": "eFyCc_HUjtXr",
        "outputId": "a778fb7b-de95-45b7-904c-4959bd7be0b6"
      },
      "execution_count": null,
      "outputs": [
        {
          "output_type": "stream",
          "name": "stdout",
          "text": [
            "Davies-Bouldin Index: 0.577\n"
          ]
        }
      ]
    }
  ]
}