{
  "cells": [
    {
      "cell_type": "code",
      "execution_count": null,
      "id": "1b3785d7-534c-4937-afaf-17001283ade0",
      "metadata": {
        "id": "1b3785d7-534c-4937-afaf-17001283ade0",
        "outputId": "b6e8c455-9911-4ebe-f1b1-776bd45471b2"
      },
      "outputs": [
        {
          "name": "stdout",
          "output_type": "stream",
          "text": [
            "Data Asli:\n",
            "[[2. 5.]\n",
            " [1. 4.]\n",
            " [3. 6.]]\n",
            "\n",
            "Data Setelah Min-Max Scaling:\n",
            "[[0.5 0.5]\n",
            " [0.  0. ]\n",
            " [1.  1. ]]\n"
          ]
        }
      ],
      "source": [
        "import numpy as np\n",
        "from sklearn.preprocessing import MinMaxScaler\n",
        "\n",
        "# Data contoh (ganti dengan data anda)\n",
        "data = np.array([[2.0, 5.0],\n",
        "                 [1.0, 4.0],\n",
        "                 [3.0, 6.0]])\n",
        "\n",
        "# Inisialisasi objek MinMaxScaler\n",
        "scaler = MinMaxScaler()\n",
        "\n",
        "# Fit dan transformasi data menggunalan Min-Max Scaling\n",
        "scaled_data = scaler.fit_transform(data)\n",
        "\n",
        "print(\"Data Asli:\")\n",
        "print(data)\n",
        "\n",
        "print(\"\\nData Setelah Min-Max Scaling:\")\n",
        "print(scaled_data)"
      ]
    },
    {
      "cell_type": "code",
      "execution_count": null,
      "id": "65ab7036-16e4-4ee6-b386-f2d7ddaf5643",
      "metadata": {
        "id": "65ab7036-16e4-4ee6-b386-f2d7ddaf5643",
        "outputId": "0273b556-2126-40b8-c599-7bc358714b46"
      },
      "outputs": [
        {
          "name": "stdout",
          "output_type": "stream",
          "text": [
            "Data Asli:\n",
            "[[2. 5.]\n",
            " [1. 4.]\n",
            " [3. 6.]]\n",
            "\n",
            "Data setelah Z-Score Transformation:\n",
            "[[ 0.          0.        ]\n",
            " [-1.22474487 -1.22474487]\n",
            " [ 1.22474487  1.22474487]]\n"
          ]
        }
      ],
      "source": [
        "import numpy as np\n",
        "from sklearn.preprocessing import StandardScaler\n",
        "\n",
        "# Data contoh\n",
        "data = np.array([[2.0, 5.0],\n",
        "                 [1.0, 4.0],\n",
        "                 [3.0, 6.0]])\n",
        "\n",
        "# Inisialisasi objek StandardScaler\n",
        "scaler = StandardScaler()\n",
        "\n",
        "# fit dan transformasi data menggunakan Z-Score Transformation\n",
        "z_score_data = scaler.fit_transform(data)\n",
        "\n",
        "print(\"Data Asli:\")\n",
        "print(data)\n",
        "\n",
        "print(\"\\nData setelah Z-Score Transformation:\")\n",
        "print(z_score_data)"
      ]
    },
    {
      "cell_type": "code",
      "execution_count": null,
      "id": "731c1522-3ceb-46eb-83c1-730f956f2ccb",
      "metadata": {
        "id": "731c1522-3ceb-46eb-83c1-730f956f2ccb",
        "outputId": "927d0381-7005-47b3-aadf-046e7d57a263"
      },
      "outputs": [
        {
          "name": "stdout",
          "output_type": "stream",
          "text": [
            "Data Asli:\n",
            "[200 300 400 500 600]\n",
            "\n",
            "Data setelah Decimal Scaling:\n",
            "[0.2 0.3 0.4 0.5 0.6]\n"
          ]
        }
      ],
      "source": [
        "import numpy as np\n",
        "\n",
        "# Data contoh\n",
        "data = np.array([200, 300, 400, 500, 600])\n",
        "\n",
        "# Menentukan faktor penggeseran (scaling factor)\n",
        "# Misalnya 1000 untuk mengubah ke rentang 0-1\n",
        "scaling_factor = 1000\n",
        "\n",
        "# Melakukan transformasi Decimal Scaling\n",
        "scaled_data = data / scaling_factor\n",
        "\n",
        "print(\"Data Asli:\")\n",
        "print(data)\n",
        "\n",
        "print(\"\\nData setelah Decimal Scaling:\")\n",
        "print(scaled_data)"
      ]
    }
  ],
  "metadata": {
    "kernelspec": {
      "display_name": "Python 3 (ipykernel)",
      "language": "python",
      "name": "python3"
    },
    "language_info": {
      "codemirror_mode": {
        "name": "ipython",
        "version": 3
      },
      "file_extension": ".py",
      "mimetype": "text/x-python",
      "name": "python",
      "nbconvert_exporter": "python",
      "pygments_lexer": "ipython3",
      "version": "3.11.6"
    },
    "colab": {
      "provenance": []
    }
  },
  "nbformat": 4,
  "nbformat_minor": 5
}